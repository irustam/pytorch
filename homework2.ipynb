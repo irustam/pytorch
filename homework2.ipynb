{
 "cells": [
  {
   "cell_type": "code",
   "execution_count": 165,
   "metadata": {
    "scrolled": true
   },
   "outputs": [
    {
     "name": "stdout",
     "output_type": "stream",
     "text": [
      "cpu\n"
     ]
    }
   ],
   "source": [
    "import torch\n",
    "from torch import nn, optim\n",
    "import numpy as np\n",
    "import pandas as pd\n",
    "import matplotlib.pyplot as plt\n",
    "\n",
    "import torchvision\n",
    "from torchvision import datasets, transforms\n",
    "from torch.utils.data import DataLoader, Dataset\n",
    "\n",
    "from mpl_toolkits.mplot3d import Axes3D  # noqa: F401 unused import\n",
    "import mpl_toolkits.mplot3d as plt3d\n",
    "import matplotlib.animation as animation\n",
    "\n",
    "\n",
    "from time import sleep\n",
    "import time\n",
    "import math\n",
    "\n",
    "from PIL import Image\n",
    "import os\n",
    "\n",
    "os.environ['KMP_DUPLICATE_LIB_OK']='True'\n",
    "use_cuda = torch.cuda.is_available()\n",
    "# device = torch.device(\"cpu\")\n",
    "device = torch.device('cuda') if torch.cuda.is_available() else torch.device('cpu')\n",
    "print(device)"
   ]
  },
  {
   "cell_type": "markdown",
   "metadata": {},
   "source": [
    "## LSTM"
   ]
  },
  {
   "cell_type": "markdown",
   "metadata": {},
   "source": [
    "## Реализация на PyToch\n",
    "##### https://pytorch.org/docs/stable/generated/torch.nn.LSTM.html"
   ]
  },
  {
   "cell_type": "code",
   "execution_count": 506,
   "metadata": {},
   "outputs": [],
   "source": [
    "class LSTM_net(nn.Module):\n",
    "    def __init__(self, input_dim, hidden_dim, output_dim, layer_num):\n",
    "        super().__init__()\n",
    "        self.hidden_dim = hidden_dim\n",
    "        self.output_dim = output_dim\n",
    "        self.lstm = torch.nn.LSTM(input_dim, hidden_dim, layer_num, batch_first=True)\n",
    "        self.dr = torch.nn.Dropout2d(0.25)\n",
    "        self.fc = torch.nn.Linear(hidden_dim, output_dim)\n",
    "        \n",
    "        \n",
    "    def forward(self, inputs):\n",
    "        x = inputs\n",
    "        lstm_out, (hn, cn) = self.lstm(x)\n",
    "        out = self.fc(lstm_out[:,-1,:])\n",
    "        return out"
   ]
  },
  {
   "cell_type": "markdown",
   "metadata": {},
   "source": [
    "https://github.com/shahroudy/NTURGB-D"
   ]
  },
  {
   "cell_type": "markdown",
   "metadata": {},
   "source": [
    "#### Classes:\n",
    "* sitting down\n",
    "* clapping\n",
    "* jump up\n",
    "* cheer up\n",
    "* hand waving"
   ]
  },
  {
   "cell_type": "code",
   "execution_count": 167,
   "metadata": {},
   "outputs": [],
   "source": [
    "# skeletons = pd.read_csv(\"skels.csv\")\n",
    "skeletons = pd.read_csv(\"test_01.csv\")"
   ]
  },
  {
   "cell_type": "code",
   "execution_count": 168,
   "metadata": {},
   "outputs": [],
   "source": [
    "LABELS = {0: \"sit down\", 1: \"clapping\", 2:  \"cheer up\", 3: \"hand waving\", 4: \"jump up\", \n",
    "          5: \"take off a hat\", 6: \"writing\", 7: \"put on glasses\", 8: \"tear up paper\"}"
   ]
  },
  {
   "cell_type": "code",
   "execution_count": 169,
   "metadata": {
    "collapsed": true
   },
   "outputs": [
    {
     "data": {
      "text/html": [
       "<div>\n",
       "<style scoped>\n",
       "    .dataframe tbody tr th:only-of-type {\n",
       "        vertical-align: middle;\n",
       "    }\n",
       "\n",
       "    .dataframe tbody tr th {\n",
       "        vertical-align: top;\n",
       "    }\n",
       "\n",
       "    .dataframe thead th {\n",
       "        text-align: right;\n",
       "    }\n",
       "</style>\n",
       "<table border=\"1\" class=\"dataframe\">\n",
       "  <thead>\n",
       "    <tr style=\"text-align: right;\">\n",
       "      <th></th>\n",
       "      <th>0</th>\n",
       "      <th>1</th>\n",
       "      <th>2</th>\n",
       "      <th>3</th>\n",
       "      <th>4</th>\n",
       "      <th>5</th>\n",
       "      <th>6</th>\n",
       "      <th>7</th>\n",
       "      <th>8</th>\n",
       "      <th>9</th>\n",
       "      <th>...</th>\n",
       "      <th>3366</th>\n",
       "      <th>3367</th>\n",
       "      <th>3368</th>\n",
       "      <th>3369</th>\n",
       "      <th>3370</th>\n",
       "      <th>3371</th>\n",
       "      <th>3372</th>\n",
       "      <th>3373</th>\n",
       "      <th>3374</th>\n",
       "      <th>labels</th>\n",
       "    </tr>\n",
       "  </thead>\n",
       "  <tbody>\n",
       "    <tr>\n",
       "      <th>0</th>\n",
       "      <td>-0.080141</td>\n",
       "      <td>0.135073</td>\n",
       "      <td>3.691227</td>\n",
       "      <td>-0.058513</td>\n",
       "      <td>0.396866</td>\n",
       "      <td>3.606265</td>\n",
       "      <td>-0.037811</td>\n",
       "      <td>0.652906</td>\n",
       "      <td>3.509790</td>\n",
       "      <td>-0.066903</td>\n",
       "      <td>...</td>\n",
       "      <td>-0.066586</td>\n",
       "      <td>-0.194186</td>\n",
       "      <td>3.880914</td>\n",
       "      <td>0.103227</td>\n",
       "      <td>-0.183070</td>\n",
       "      <td>3.717531</td>\n",
       "      <td>0.180819</td>\n",
       "      <td>-0.130425</td>\n",
       "      <td>3.724300</td>\n",
       "      <td>0</td>\n",
       "    </tr>\n",
       "    <tr>\n",
       "      <th>1</th>\n",
       "      <td>-0.035358</td>\n",
       "      <td>0.192430</td>\n",
       "      <td>3.681518</td>\n",
       "      <td>-0.021036</td>\n",
       "      <td>0.422171</td>\n",
       "      <td>3.606487</td>\n",
       "      <td>-0.007186</td>\n",
       "      <td>0.646429</td>\n",
       "      <td>3.520689</td>\n",
       "      <td>-0.042399</td>\n",
       "      <td>...</td>\n",
       "      <td>-0.247820</td>\n",
       "      <td>0.496548</td>\n",
       "      <td>3.406900</td>\n",
       "      <td>-0.056666</td>\n",
       "      <td>0.495373</td>\n",
       "      <td>3.269386</td>\n",
       "      <td>-0.050549</td>\n",
       "      <td>0.490788</td>\n",
       "      <td>3.258667</td>\n",
       "      <td>1</td>\n",
       "    </tr>\n",
       "    <tr>\n",
       "      <th>2</th>\n",
       "      <td>0.233268</td>\n",
       "      <td>0.182226</td>\n",
       "      <td>3.738342</td>\n",
       "      <td>0.246664</td>\n",
       "      <td>0.427726</td>\n",
       "      <td>3.664138</td>\n",
       "      <td>0.258953</td>\n",
       "      <td>0.668395</td>\n",
       "      <td>3.579175</td>\n",
       "      <td>0.232204</td>\n",
       "      <td>...</td>\n",
       "      <td>0.341380</td>\n",
       "      <td>0.398297</td>\n",
       "      <td>3.464900</td>\n",
       "      <td>0.086362</td>\n",
       "      <td>0.484182</td>\n",
       "      <td>3.377581</td>\n",
       "      <td>0.137638</td>\n",
       "      <td>0.470977</td>\n",
       "      <td>3.347150</td>\n",
       "      <td>2</td>\n",
       "    </tr>\n",
       "    <tr>\n",
       "      <th>3</th>\n",
       "      <td>0.224168</td>\n",
       "      <td>0.188563</td>\n",
       "      <td>3.735721</td>\n",
       "      <td>0.225902</td>\n",
       "      <td>0.421312</td>\n",
       "      <td>3.664325</td>\n",
       "      <td>0.227259</td>\n",
       "      <td>0.649151</td>\n",
       "      <td>3.583410</td>\n",
       "      <td>0.194906</td>\n",
       "      <td>...</td>\n",
       "      <td>0.177972</td>\n",
       "      <td>0.426407</td>\n",
       "      <td>3.417228</td>\n",
       "      <td>0.066224</td>\n",
       "      <td>0.472247</td>\n",
       "      <td>3.390802</td>\n",
       "      <td>0.108203</td>\n",
       "      <td>0.448698</td>\n",
       "      <td>3.364467</td>\n",
       "      <td>2</td>\n",
       "    </tr>\n",
       "    <tr>\n",
       "      <th>4</th>\n",
       "      <td>0.229684</td>\n",
       "      <td>0.188112</td>\n",
       "      <td>3.749971</td>\n",
       "      <td>0.242151</td>\n",
       "      <td>0.432106</td>\n",
       "      <td>3.679358</td>\n",
       "      <td>0.252508</td>\n",
       "      <td>0.670998</td>\n",
       "      <td>3.597336</td>\n",
       "      <td>0.229758</td>\n",
       "      <td>...</td>\n",
       "      <td>-0.079222</td>\n",
       "      <td>0.348027</td>\n",
       "      <td>3.337667</td>\n",
       "      <td>0.085692</td>\n",
       "      <td>0.430705</td>\n",
       "      <td>3.427691</td>\n",
       "      <td>0.157289</td>\n",
       "      <td>0.475443</td>\n",
       "      <td>3.425417</td>\n",
       "      <td>3</td>\n",
       "    </tr>\n",
       "  </tbody>\n",
       "</table>\n",
       "<p>5 rows × 3376 columns</p>\n",
       "</div>"
      ],
      "text/plain": [
       "          0         1         2         3         4         5         6  \\\n",
       "0 -0.080141  0.135073  3.691227 -0.058513  0.396866  3.606265 -0.037811   \n",
       "1 -0.035358  0.192430  3.681518 -0.021036  0.422171  3.606487 -0.007186   \n",
       "2  0.233268  0.182226  3.738342  0.246664  0.427726  3.664138  0.258953   \n",
       "3  0.224168  0.188563  3.735721  0.225902  0.421312  3.664325  0.227259   \n",
       "4  0.229684  0.188112  3.749971  0.242151  0.432106  3.679358  0.252508   \n",
       "\n",
       "          7         8         9  ...      3366      3367      3368      3369  \\\n",
       "0  0.652906  3.509790 -0.066903  ... -0.066586 -0.194186  3.880914  0.103227   \n",
       "1  0.646429  3.520689 -0.042399  ... -0.247820  0.496548  3.406900 -0.056666   \n",
       "2  0.668395  3.579175  0.232204  ...  0.341380  0.398297  3.464900  0.086362   \n",
       "3  0.649151  3.583410  0.194906  ...  0.177972  0.426407  3.417228  0.066224   \n",
       "4  0.670998  3.597336  0.229758  ... -0.079222  0.348027  3.337667  0.085692   \n",
       "\n",
       "       3370      3371      3372      3373      3374  labels  \n",
       "0 -0.183070  3.717531  0.180819 -0.130425  3.724300       0  \n",
       "1  0.495373  3.269386 -0.050549  0.490788  3.258667       1  \n",
       "2  0.484182  3.377581  0.137638  0.470977  3.347150       2  \n",
       "3  0.472247  3.390802  0.108203  0.448698  3.364467       2  \n",
       "4  0.430705  3.427691  0.157289  0.475443  3.425417       3  \n",
       "\n",
       "[5 rows x 3376 columns]"
      ]
     },
     "execution_count": 169,
     "metadata": {},
     "output_type": "execute_result"
    }
   ],
   "source": [
    "skeletons.head()"
   ]
  },
  {
   "cell_type": "markdown",
   "metadata": {},
   "source": [
    "## Dataloader"
   ]
  },
  {
   "cell_type": "markdown",
   "metadata": {},
   "source": [
    "``` DataLoader(dataset, batch_size=1, shuffle=False, sampler=None,\n",
    "           batch_sampler=None, num_workers=0, collate_fn=None,\n",
    "           pin_memory=False, drop_last=False, timeout=0,\n",
    "           worker_init_fn=None) ```"
   ]
  },
  {
   "cell_type": "markdown",
   "metadata": {},
   "source": [
    "Класс Dataset и класс Dataloader помогают передавать собственные обучающие данные в сеть. \n",
    "Класс Dataset используется для обеспечения интерфейса для доступа ко всем обучающим или тестовым образцам в вашем наборе данных. Для этого необходимо реализовать как два обязательных метода, __getitem__ и __len_. "
   ]
  },
  {
   "cell_type": "code",
   "execution_count": 777,
   "metadata": {},
   "outputs": [],
   "source": [
    "def categoryFromOutput(output):\n",
    "    top_n, top_i = output.topk(1)\n",
    "    category_i = top_i[0].item()\n",
    "    return LABELS[category_i], category_i\n",
    "\n",
    "def timeSince(since):\n",
    "    now = time.time()\n",
    "    s = now - since\n",
    "    m = math.floor(s / 60)\n",
    "    s -= m * 60\n",
    "    return '%dm %ds' % (m, s)"
   ]
  },
  {
   "cell_type": "code",
   "execution_count": 791,
   "metadata": {},
   "outputs": [],
   "source": [
    "class Skeleton_Dataset(Dataset):\n",
    "    def __init__(self, file_path, n_kadr=45, transform=None):\n",
    "        self.data = pd.read_csv(file_path)\n",
    "        self.transform = transform\n",
    "        self.n_kadr = n_kadr\n",
    "\n",
    "\n",
    "    def __len__(self):\n",
    "        return len(self.data) \n",
    "    \n",
    "    \n",
    "    def __getitem__(self, idx):\n",
    "        item = np.asarray(self.data.iloc[idx,:-1]).reshape(self.n_kadr,75)\n",
    "        label = self.data.iloc[idx,-1]\n",
    "\n",
    "        if self.transform != None:\n",
    "            item = self.transform(item).reshape(self.n_kadr,75)\n",
    "        return (item, label)\n",
    "\n",
    "transform_it = transforms.Compose([\n",
    "        transforms.ToTensor(), \n",
    "        transforms.Normalize(mean=0.5, std=0.5)\n",
    "    ])"
   ]
  },
  {
   "cell_type": "code",
   "execution_count": 792,
   "metadata": {},
   "outputs": [],
   "source": [
    "normalize = True\n",
    "# file = \"skels.csv\"\n",
    "# file = \"test_01.csv\"\n",
    "# n_kadr = 45\n",
    "file = \"test_02_35k.csv\"\n",
    "n_kadr = 35\n",
    "# file = \"test_02_25k.csv\"\n",
    "# n_kadr = 25"
   ]
  },
  {
   "cell_type": "code",
   "execution_count": 794,
   "metadata": {},
   "outputs": [],
   "source": [
    "if normalize:\n",
    "    dataset = Skeleton_Dataset(file_path=file, n_kadr=n_kadr, transform=transform_it)\n",
    "    skel, lab = dataset.__getitem__(41)\n",
    "    sket_tensor = skel.float()\n",
    "else:\n",
    "    dataset = Skeleton_Dataset(file_path=file, n_kadr=n_kadr, transform=None)\n",
    "    skel, lab = dataset.__getitem__(41)\n",
    "    sket_tensor = torch.from_numpy(skel).unsqueeze(0).float()"
   ]
  },
  {
   "cell_type": "code",
   "execution_count": 795,
   "metadata": {},
   "outputs": [
    {
     "data": {
      "text/plain": [
       "(torch.Size([35, 75]), torch.Size([35, 75]), torch.Tensor)"
      ]
     },
     "execution_count": 795,
     "metadata": {},
     "output_type": "execute_result"
    }
   ],
   "source": [
    "skel.shape, sket_tensor.size(), type(skel)"
   ]
  },
  {
   "cell_type": "code",
   "execution_count": 796,
   "metadata": {
    "scrolled": true
   },
   "outputs": [
    {
     "data": {
      "text/plain": [
       "tensor([[-0.4393, -0.7528,  6.1467,  ..., -0.7650, -0.2972,  5.4252],\n",
       "        [-0.4393, -0.7528,  6.1465,  ..., -0.8271, -0.2938,  5.4395],\n",
       "        [-0.4393, -0.7527,  6.1460,  ..., -0.7995, -0.3061,  5.4122],\n",
       "        ...,\n",
       "        [-0.4430, -0.7669,  6.1257,  ..., -0.7477, -0.2704,  5.4344],\n",
       "        [-0.4446, -0.7681,  6.1268,  ..., -0.7470, -0.2748,  5.4506],\n",
       "        [-0.4416, -0.7696,  6.1245,  ..., -0.7305, -0.2961,  5.4250]],\n",
       "       dtype=torch.float64)"
      ]
     },
     "execution_count": 796,
     "metadata": {},
     "output_type": "execute_result"
    }
   ],
   "source": [
    "skel"
   ]
  },
  {
   "cell_type": "code",
   "execution_count": 797,
   "metadata": {},
   "outputs": [
    {
     "data": {
      "text/plain": [
       "(numpy.int64, 'hand waving', 3)"
      ]
     },
     "execution_count": 797,
     "metadata": {},
     "output_type": "execute_result"
    }
   ],
   "source": [
    "type(lab), LABELS[lab], lab"
   ]
  },
  {
   "cell_type": "code",
   "execution_count": 798,
   "metadata": {},
   "outputs": [],
   "source": [
    "train_len = int(0.7*len(dataset))\n",
    "train_dataset, test_dataset = torch.utils.data.random_split(dataset, [train_len, len(dataset)-train_len])\n",
    "train_loader = DataLoader(train_dataset, batch_size = 16, shuffle=True)\n",
    "test_loader = DataLoader(test_dataset, batch_size = 16, shuffle=True)"
   ]
  },
  {
   "cell_type": "code",
   "execution_count": 799,
   "metadata": {
    "scrolled": true
   },
   "outputs": [
    {
     "data": {
      "text/plain": [
       "LSTM_net(\n",
       "  (lstm): LSTM(75, 96, num_layers=2, batch_first=True)\n",
       "  (dr): Dropout2d(p=0.25, inplace=False)\n",
       "  (fc): Linear(in_features=96, out_features=9, bias=True)\n",
       ")"
      ]
     },
     "execution_count": 799,
     "metadata": {},
     "output_type": "execute_result"
    }
   ],
   "source": [
    "n_hidden = 96\n",
    "n_joints = 25*3\n",
    "n_categories = len(LABELS)\n",
    "n_layer = 2\n",
    "rnn = LSTM_net(n_joints,n_hidden,n_categories,n_layer)\n",
    "rnn.to(device)"
   ]
  },
  {
   "cell_type": "code",
   "execution_count": 800,
   "metadata": {
    "collapsed": true
   },
   "outputs": [
    {
     "ename": "RuntimeError",
     "evalue": "input must have 3 dimensions, got 2",
     "output_type": "error",
     "traceback": [
      "\u001b[1;31m---------------------------------------------------------------------------\u001b[0m",
      "\u001b[1;31mRuntimeError\u001b[0m                              Traceback (most recent call last)",
      "\u001b[1;32m<ipython-input-800-a23ab752dafc>\u001b[0m in \u001b[0;36m<module>\u001b[1;34m\u001b[0m\n\u001b[1;32m----> 1\u001b[1;33m \u001b[0moutput\u001b[0m \u001b[1;33m=\u001b[0m \u001b[0mrnn\u001b[0m\u001b[1;33m(\u001b[0m\u001b[0msket_tensor\u001b[0m\u001b[1;33m.\u001b[0m\u001b[0mto\u001b[0m\u001b[1;33m(\u001b[0m\u001b[0mdevice\u001b[0m\u001b[1;33m)\u001b[0m\u001b[1;33m)\u001b[0m\u001b[1;33m\u001b[0m\u001b[1;33m\u001b[0m\u001b[0m\n\u001b[0m",
      "\u001b[1;32mC:\\Anaconda\\lib\\site-packages\\torch\\nn\\modules\\module.py\u001b[0m in \u001b[0;36m_call_impl\u001b[1;34m(self, *input, **kwargs)\u001b[0m\n\u001b[0;32m    720\u001b[0m             \u001b[0mresult\u001b[0m \u001b[1;33m=\u001b[0m \u001b[0mself\u001b[0m\u001b[1;33m.\u001b[0m\u001b[0m_slow_forward\u001b[0m\u001b[1;33m(\u001b[0m\u001b[1;33m*\u001b[0m\u001b[0minput\u001b[0m\u001b[1;33m,\u001b[0m \u001b[1;33m**\u001b[0m\u001b[0mkwargs\u001b[0m\u001b[1;33m)\u001b[0m\u001b[1;33m\u001b[0m\u001b[1;33m\u001b[0m\u001b[0m\n\u001b[0;32m    721\u001b[0m         \u001b[1;32melse\u001b[0m\u001b[1;33m:\u001b[0m\u001b[1;33m\u001b[0m\u001b[1;33m\u001b[0m\u001b[0m\n\u001b[1;32m--> 722\u001b[1;33m             \u001b[0mresult\u001b[0m \u001b[1;33m=\u001b[0m \u001b[0mself\u001b[0m\u001b[1;33m.\u001b[0m\u001b[0mforward\u001b[0m\u001b[1;33m(\u001b[0m\u001b[1;33m*\u001b[0m\u001b[0minput\u001b[0m\u001b[1;33m,\u001b[0m \u001b[1;33m**\u001b[0m\u001b[0mkwargs\u001b[0m\u001b[1;33m)\u001b[0m\u001b[1;33m\u001b[0m\u001b[1;33m\u001b[0m\u001b[0m\n\u001b[0m\u001b[0;32m    723\u001b[0m         for hook in itertools.chain(\n\u001b[0;32m    724\u001b[0m                 \u001b[0m_global_forward_hooks\u001b[0m\u001b[1;33m.\u001b[0m\u001b[0mvalues\u001b[0m\u001b[1;33m(\u001b[0m\u001b[1;33m)\u001b[0m\u001b[1;33m,\u001b[0m\u001b[1;33m\u001b[0m\u001b[1;33m\u001b[0m\u001b[0m\n",
      "\u001b[1;32m<ipython-input-506-26e9ea23e718>\u001b[0m in \u001b[0;36mforward\u001b[1;34m(self, inputs)\u001b[0m\n\u001b[0;32m     11\u001b[0m     \u001b[1;32mdef\u001b[0m \u001b[0mforward\u001b[0m\u001b[1;33m(\u001b[0m\u001b[0mself\u001b[0m\u001b[1;33m,\u001b[0m \u001b[0minputs\u001b[0m\u001b[1;33m)\u001b[0m\u001b[1;33m:\u001b[0m\u001b[1;33m\u001b[0m\u001b[1;33m\u001b[0m\u001b[0m\n\u001b[0;32m     12\u001b[0m         \u001b[0mx\u001b[0m \u001b[1;33m=\u001b[0m \u001b[0minputs\u001b[0m\u001b[1;33m\u001b[0m\u001b[1;33m\u001b[0m\u001b[0m\n\u001b[1;32m---> 13\u001b[1;33m         \u001b[0mlstm_out\u001b[0m\u001b[1;33m,\u001b[0m \u001b[1;33m(\u001b[0m\u001b[0mhn\u001b[0m\u001b[1;33m,\u001b[0m \u001b[0mcn\u001b[0m\u001b[1;33m)\u001b[0m \u001b[1;33m=\u001b[0m \u001b[0mself\u001b[0m\u001b[1;33m.\u001b[0m\u001b[0mlstm\u001b[0m\u001b[1;33m(\u001b[0m\u001b[0mx\u001b[0m\u001b[1;33m)\u001b[0m\u001b[1;33m\u001b[0m\u001b[1;33m\u001b[0m\u001b[0m\n\u001b[0m\u001b[0;32m     14\u001b[0m         \u001b[0mout\u001b[0m \u001b[1;33m=\u001b[0m \u001b[0mself\u001b[0m\u001b[1;33m.\u001b[0m\u001b[0mfc\u001b[0m\u001b[1;33m(\u001b[0m\u001b[0mlstm_out\u001b[0m\u001b[1;33m[\u001b[0m\u001b[1;33m:\u001b[0m\u001b[1;33m,\u001b[0m\u001b[1;33m-\u001b[0m\u001b[1;36m1\u001b[0m\u001b[1;33m,\u001b[0m\u001b[1;33m:\u001b[0m\u001b[1;33m]\u001b[0m\u001b[1;33m)\u001b[0m\u001b[1;33m\u001b[0m\u001b[1;33m\u001b[0m\u001b[0m\n\u001b[0;32m     15\u001b[0m         \u001b[1;32mreturn\u001b[0m \u001b[0mout\u001b[0m\u001b[1;33m\u001b[0m\u001b[1;33m\u001b[0m\u001b[0m\n",
      "\u001b[1;32mC:\\Anaconda\\lib\\site-packages\\torch\\nn\\modules\\module.py\u001b[0m in \u001b[0;36m_call_impl\u001b[1;34m(self, *input, **kwargs)\u001b[0m\n\u001b[0;32m    720\u001b[0m             \u001b[0mresult\u001b[0m \u001b[1;33m=\u001b[0m \u001b[0mself\u001b[0m\u001b[1;33m.\u001b[0m\u001b[0m_slow_forward\u001b[0m\u001b[1;33m(\u001b[0m\u001b[1;33m*\u001b[0m\u001b[0minput\u001b[0m\u001b[1;33m,\u001b[0m \u001b[1;33m**\u001b[0m\u001b[0mkwargs\u001b[0m\u001b[1;33m)\u001b[0m\u001b[1;33m\u001b[0m\u001b[1;33m\u001b[0m\u001b[0m\n\u001b[0;32m    721\u001b[0m         \u001b[1;32melse\u001b[0m\u001b[1;33m:\u001b[0m\u001b[1;33m\u001b[0m\u001b[1;33m\u001b[0m\u001b[0m\n\u001b[1;32m--> 722\u001b[1;33m             \u001b[0mresult\u001b[0m \u001b[1;33m=\u001b[0m \u001b[0mself\u001b[0m\u001b[1;33m.\u001b[0m\u001b[0mforward\u001b[0m\u001b[1;33m(\u001b[0m\u001b[1;33m*\u001b[0m\u001b[0minput\u001b[0m\u001b[1;33m,\u001b[0m \u001b[1;33m**\u001b[0m\u001b[0mkwargs\u001b[0m\u001b[1;33m)\u001b[0m\u001b[1;33m\u001b[0m\u001b[1;33m\u001b[0m\u001b[0m\n\u001b[0m\u001b[0;32m    723\u001b[0m         for hook in itertools.chain(\n\u001b[0;32m    724\u001b[0m                 \u001b[0m_global_forward_hooks\u001b[0m\u001b[1;33m.\u001b[0m\u001b[0mvalues\u001b[0m\u001b[1;33m(\u001b[0m\u001b[1;33m)\u001b[0m\u001b[1;33m,\u001b[0m\u001b[1;33m\u001b[0m\u001b[1;33m\u001b[0m\u001b[0m\n",
      "\u001b[1;32mC:\\Anaconda\\lib\\site-packages\\torch\\nn\\modules\\rnn.py\u001b[0m in \u001b[0;36mforward\u001b[1;34m(self, input, hx)\u001b[0m\n\u001b[0;32m    572\u001b[0m             \u001b[0mhx\u001b[0m \u001b[1;33m=\u001b[0m \u001b[0mself\u001b[0m\u001b[1;33m.\u001b[0m\u001b[0mpermute_hidden\u001b[0m\u001b[1;33m(\u001b[0m\u001b[0mhx\u001b[0m\u001b[1;33m,\u001b[0m \u001b[0msorted_indices\u001b[0m\u001b[1;33m)\u001b[0m\u001b[1;33m\u001b[0m\u001b[1;33m\u001b[0m\u001b[0m\n\u001b[0;32m    573\u001b[0m \u001b[1;33m\u001b[0m\u001b[0m\n\u001b[1;32m--> 574\u001b[1;33m         \u001b[0mself\u001b[0m\u001b[1;33m.\u001b[0m\u001b[0mcheck_forward_args\u001b[0m\u001b[1;33m(\u001b[0m\u001b[0minput\u001b[0m\u001b[1;33m,\u001b[0m \u001b[0mhx\u001b[0m\u001b[1;33m,\u001b[0m \u001b[0mbatch_sizes\u001b[0m\u001b[1;33m)\u001b[0m\u001b[1;33m\u001b[0m\u001b[1;33m\u001b[0m\u001b[0m\n\u001b[0m\u001b[0;32m    575\u001b[0m         \u001b[1;32mif\u001b[0m \u001b[0mbatch_sizes\u001b[0m \u001b[1;32mis\u001b[0m \u001b[1;32mNone\u001b[0m\u001b[1;33m:\u001b[0m\u001b[1;33m\u001b[0m\u001b[1;33m\u001b[0m\u001b[0m\n\u001b[0;32m    576\u001b[0m             result = _VF.lstm(input, hx, self._flat_weights, self.bias, self.num_layers,\n",
      "\u001b[1;32mC:\\Anaconda\\lib\\site-packages\\torch\\nn\\modules\\rnn.py\u001b[0m in \u001b[0;36mcheck_forward_args\u001b[1;34m(self, input, hidden, batch_sizes)\u001b[0m\n\u001b[0;32m    523\u001b[0m \u001b[1;33m\u001b[0m\u001b[0m\n\u001b[0;32m    524\u001b[0m     \u001b[1;32mdef\u001b[0m \u001b[0mcheck_forward_args\u001b[0m\u001b[1;33m(\u001b[0m\u001b[0mself\u001b[0m\u001b[1;33m,\u001b[0m \u001b[0minput\u001b[0m\u001b[1;33m:\u001b[0m \u001b[0mTensor\u001b[0m\u001b[1;33m,\u001b[0m \u001b[0mhidden\u001b[0m\u001b[1;33m:\u001b[0m \u001b[0mTuple\u001b[0m\u001b[1;33m[\u001b[0m\u001b[0mTensor\u001b[0m\u001b[1;33m,\u001b[0m \u001b[0mTensor\u001b[0m\u001b[1;33m]\u001b[0m\u001b[1;33m,\u001b[0m \u001b[0mbatch_sizes\u001b[0m\u001b[1;33m:\u001b[0m \u001b[0mOptional\u001b[0m\u001b[1;33m[\u001b[0m\u001b[0mTensor\u001b[0m\u001b[1;33m]\u001b[0m\u001b[1;33m)\u001b[0m\u001b[1;33m:\u001b[0m\u001b[1;33m\u001b[0m\u001b[1;33m\u001b[0m\u001b[0m\n\u001b[1;32m--> 525\u001b[1;33m         \u001b[0mself\u001b[0m\u001b[1;33m.\u001b[0m\u001b[0mcheck_input\u001b[0m\u001b[1;33m(\u001b[0m\u001b[0minput\u001b[0m\u001b[1;33m,\u001b[0m \u001b[0mbatch_sizes\u001b[0m\u001b[1;33m)\u001b[0m\u001b[1;33m\u001b[0m\u001b[1;33m\u001b[0m\u001b[0m\n\u001b[0m\u001b[0;32m    526\u001b[0m         \u001b[0mexpected_hidden_size\u001b[0m \u001b[1;33m=\u001b[0m \u001b[0mself\u001b[0m\u001b[1;33m.\u001b[0m\u001b[0mget_expected_hidden_size\u001b[0m\u001b[1;33m(\u001b[0m\u001b[0minput\u001b[0m\u001b[1;33m,\u001b[0m \u001b[0mbatch_sizes\u001b[0m\u001b[1;33m)\u001b[0m\u001b[1;33m\u001b[0m\u001b[1;33m\u001b[0m\u001b[0m\n\u001b[0;32m    527\u001b[0m \u001b[1;33m\u001b[0m\u001b[0m\n",
      "\u001b[1;32mC:\\Anaconda\\lib\\site-packages\\torch\\nn\\modules\\rnn.py\u001b[0m in \u001b[0;36mcheck_input\u001b[1;34m(self, input, batch_sizes)\u001b[0m\n\u001b[0;32m    173\u001b[0m             raise RuntimeError(\n\u001b[0;32m    174\u001b[0m                 'input must have {} dimensions, got {}'.format(\n\u001b[1;32m--> 175\u001b[1;33m                     expected_input_dim, input.dim()))\n\u001b[0m\u001b[0;32m    176\u001b[0m         \u001b[1;32mif\u001b[0m \u001b[0mself\u001b[0m\u001b[1;33m.\u001b[0m\u001b[0minput_size\u001b[0m \u001b[1;33m!=\u001b[0m \u001b[0minput\u001b[0m\u001b[1;33m.\u001b[0m\u001b[0msize\u001b[0m\u001b[1;33m(\u001b[0m\u001b[1;33m-\u001b[0m\u001b[1;36m1\u001b[0m\u001b[1;33m)\u001b[0m\u001b[1;33m:\u001b[0m\u001b[1;33m\u001b[0m\u001b[1;33m\u001b[0m\u001b[0m\n\u001b[0;32m    177\u001b[0m             raise RuntimeError(\n",
      "\u001b[1;31mRuntimeError\u001b[0m: input must have 3 dimensions, got 2"
     ]
    }
   ],
   "source": [
    "output = rnn(sket_tensor.to(device))"
   ]
  },
  {
   "cell_type": "code",
   "execution_count": 801,
   "metadata": {},
   "outputs": [
    {
     "data": {
      "text/plain": [
       "torch.return_types.topk(\n",
       "values=tensor([[ 0.0906,  0.0690,  0.0664,  0.0566,  0.0421,  0.0171,  0.0132, -0.0783,\n",
       "         -0.0996]], grad_fn=<TopkBackward>),\n",
       "indices=tensor([[1, 8, 4, 5, 0, 6, 7, 3, 2]]))"
      ]
     },
     "execution_count": 801,
     "metadata": {},
     "output_type": "execute_result"
    }
   ],
   "source": [
    "output.topk(9)"
   ]
  },
  {
   "cell_type": "code",
   "execution_count": 802,
   "metadata": {},
   "outputs": [
    {
     "data": {
      "text/plain": [
       "53"
      ]
     },
     "execution_count": 802,
     "metadata": {},
     "output_type": "execute_result"
    }
   ],
   "source": [
    "len(train_loader)"
   ]
  },
  {
   "cell_type": "code",
   "execution_count": 803,
   "metadata": {},
   "outputs": [
    {
     "name": "stdout",
     "output_type": "stream",
     "text": [
      "0 torch.Size([16, 35, 75])\n",
      "0 torch.Size([16])\n"
     ]
    }
   ],
   "source": [
    "for i, data in enumerate(train_loader, 0):\n",
    "    if i % 440 == 0:\n",
    "        print(i, data[0].size())\n",
    "        print(i, data[1].size())"
   ]
  },
  {
   "cell_type": "markdown",
   "metadata": {},
   "source": [
    "1. Необходимо нормализовать данные в датасете: написать функцию нормализации и использовать ее внутри класса датасета.\n",
    "\n",
    "Для скорости тестирования обучал 150 эпох"
   ]
  },
  {
   "cell_type": "code",
   "execution_count": 804,
   "metadata": {},
   "outputs": [
    {
     "name": "stdout",
     "output_type": "stream",
     "text": [
      "epoch : 0 iter : 0 (0m 0s) / data done: 0.0% from 126900 / loss: 2.2537 / writing ✗ (tear up paper)\n",
      "epoch : 9 iter : 23 (0m 28s) / data done: 5.6% from 126900 / loss: 2.1269 / writing ✗ (cheer up)\n",
      "epoch : 18 iter : 46 (0m 56s) / data done: 11.9% from 126900 / loss: 2.0449 / writing ✗ (jump up)\n",
      "epoch : 28 iter : 16 (1m 23s) / data done: 18.2% from 126900 / loss: 1.8802 / cheer up ✓\n",
      "epoch : 37 iter : 39 (1m 52s) / data done: 24.5% from 126900 / loss: 1.6837 / writing ✗ (clapping)\n",
      "epoch : 47 iter : 9 (2m 22s) / data done: 30.8% from 126900 / loss: 1.6496 / clapping ✗ (jump up)\n",
      "epoch : 56 iter : 32 (2m 51s) / data done: 37.1% from 126900 / loss: 1.3768 / sit down ✓\n",
      "epoch : 66 iter : 2 (3m 21s) / data done: 43.4% from 126900 / loss: 1.2212 / tear up paper ✓\n",
      "epoch : 75 iter : 25 (3m 51s) / data done: 49.6% from 126900 / loss: 1.2277 / put on glasses ✓\n",
      "epoch : 84 iter : 48 (4m 22s) / data done: 55.9% from 126900 / loss: 1.1628 / sit down ✓\n",
      "epoch : 94 iter : 18 (4m 52s) / data done: 62.2% from 126900 / loss: 1.352 / writing ✓\n",
      "epoch : 103 iter : 41 (5m 22s) / data done: 68.5% from 126900 / loss: 1.1966 / jump up ✗ (clapping)\n",
      "epoch : 113 iter : 11 (5m 51s) / data done: 74.8% from 126900 / loss: 0.6963 / sit down ✓\n",
      "epoch : 122 iter : 34 (6m 19s) / data done: 81.1% from 126900 / loss: 1.1592 / writing ✓\n",
      "epoch : 132 iter : 4 (6m 48s) / data done: 87.4% from 126900 / loss: 1.2058 / writing ✓\n",
      "epoch : 141 iter : 27 (7m 17s) / data done: 93.7% from 126900 / loss: 0.812 / cheer up ✗ (hand waving)\n",
      "Wall time: 7min 43s\n"
     ]
    }
   ],
   "source": [
    "%%time\n",
    "criterion = nn.CrossEntropyLoss()\n",
    "learning_rate = 0.0007\n",
    "momentum = 0.9\n",
    "optimizer = optim.SGD(rnn.parameters(), lr=learning_rate, momentum=momentum, nesterov=True)\n",
    "epoches = 150\n",
    "data_whole = len(train_loader.dataset)*epoches\n",
    "\n",
    "all_losses = []\n",
    "start = time.time()\n",
    "counter = 0\n",
    "for epoch in range(epoches):  \n",
    "    current_loss = 0\n",
    "    running_loss = 0.0\n",
    "    for i, data in enumerate(train_loader, 0):\n",
    "        \n",
    "        inputs, labels = data[0].to(device), data[1].to(device)\n",
    "    \n",
    "        optimizer.zero_grad()\n",
    "    \n",
    "        output = rnn(inputs.float())\n",
    "        loss = criterion(output, labels)\n",
    "        loss.backward()\n",
    "        optimizer.step() \n",
    "\n",
    "\n",
    "        current_loss += loss.item()\n",
    "        category = LABELS[int(labels[0])]\n",
    "\n",
    "        if counter % 500 == 0:\n",
    "            guess, guess_i = categoryFromOutput(output)\n",
    "            correct = '✓' if guess == category else '✗ (%s)' % category\n",
    "            data_done = i * len(inputs) + (epoch-1) * len(train_loader.dataset)\n",
    "            if data_done < 0:\n",
    "                data_done = 0\n",
    "            data_done_perc = round(100. * data_done / data_whole, 1)\n",
    "\n",
    "            print(f'epoch : {epoch} iter : {i} ({timeSince(start)}) / \\\n",
    "data done: {data_done_perc}% from {data_whole} / \\\n",
    "loss: {round(float(loss),4)} / {guess} {correct}')\n",
    "#             print(output.topk(5))\n",
    "#             print(labels.topk(5))\n",
    "            all_losses.append(current_loss / 25)\n",
    "        counter = counter + 1\n",
    "        \n",
    "#         if counter % 300 == 0:\n",
    "#             print(all_losses[-1])\n",
    "#     print(counter)\n",
    "#         current_loss = 0"
   ]
  },
  {
   "cell_type": "markdown",
   "metadata": {},
   "source": [
    "__Результаты нормализации:__\n",
    "\n",
    "Нормализация существенно уменьшило loss без изменения других параметров."
   ]
  },
  {
   "cell_type": "code",
   "execution_count": 805,
   "metadata": {},
   "outputs": [
    {
     "name": "stdout",
     "output_type": "stream",
     "text": [
      "Кадров: 35, эпох: 150, lr: 0.0007, momentum: 0.9, last loss: 1.0997116184234619\n"
     ]
    },
    {
     "data": {
      "image/png": "[encoded data removed]",
      "text/plain": [
       "<Figure size 432x288 with 1 Axes>"
      ]
     },
     "metadata": {
      "needs_background": "light"
     },
     "output_type": "display_data"
    }
   ],
   "source": [
    "# Обучение итоговой модели длилось 7,5 минут\n",
    "print(f'Кадров: {n_kadr}, эпох: {epoches}, lr: {learning_rate}, momentum: {momentum}, last loss: {all_losses[-1]}')\n",
    "%matplotlib inline\n",
    "plt.plot(list(range(0,len(all_losses))),all_losses)\n",
    "plt.show()"
   ]
  },
  {
   "cell_type": "markdown",
   "metadata": {},
   "source": [
    "2. Приложен ноутбук в котором генерируется из большого датасета меньшая его копия. Вам нужно:\n",
    "    \n",
    "    a. Сгенерировать меньший датасет из 8-10 классов движения\n",
    "\n",
    "__Сделал 2 дополнительных датасета - 25 и 35 кадров__\n",
    "\n",
    "    b. Изменить функцию разбиения датасета на тестовую и тренировочную часть, увеличив кусок, отводимый на тест\n",
    "\n",
    "__Увеличил размер тестового датасета выше__\n",
    "    \n",
    "    c. Обучить уже существующую модель (предварительно проанализировав какие параметры нужно менять)\n",
    "    d. Изменить модель для улучшения качества\n",
    "    e. Сгенерировать другой датасет с меньшим количеством “кадром” в нашей серии и сравнить с улучшилось или ухудшилось качество предсказания. Провести несколько таких итераций, дать свою оценку уменьшению кадров, назвать оптимальное, на ваш взгляд, их количество.\n",
    "__Ниже улучшил качество модели и провел тестирование с разным кол-вом кадров:__"
   ]
  },
  {
   "cell_type": "code",
   "execution_count": 514,
   "metadata": {
    "scrolled": true
   },
   "outputs": [
    {
     "name": "stdout",
     "output_type": "stream",
     "text": [
      "epoch : 0 iter : 0 (0m 0s) / data done: 0.0% from 126900 / loss: 2.2287 / writing ✗ (hand waving)\n",
      "epoch : 9 iter : 23 (0m 27s) / data done: 5.6% from 126900 / loss: 2.1959 / writing ✗ (clapping)\n",
      "epoch : 18 iter : 46 (0m 54s) / data done: 11.9% from 126900 / loss: 2.172 / put on glasses ✓\n",
      "epoch : 28 iter : 16 (1m 24s) / data done: 18.2% from 126900 / loss: 2.0357 / sit down ✗ (clapping)\n",
      "epoch : 37 iter : 39 (1m 52s) / data done: 24.5% from 126900 / loss: 2.119 / writing ✗ (tear up paper)\n",
      "epoch : 47 iter : 9 (2m 19s) / data done: 30.8% from 126900 / loss: 1.7699 / hand waving ✗ (cheer up)\n",
      "epoch : 56 iter : 32 (2m 49s) / data done: 37.1% from 126900 / loss: 1.8282 / jump up ✓\n",
      "epoch : 66 iter : 2 (3m 17s) / data done: 43.4% from 126900 / loss: 1.3784 / hand waving ✗ (clapping)\n",
      "epoch : 75 iter : 25 (3m 46s) / data done: 49.6% from 126900 / loss: 1.4998 / take off a hat ✗ (jump up)\n",
      "epoch : 84 iter : 48 (4m 15s) / data done: 55.9% from 126900 / loss: 1.4672 / take off a hat ✗ (jump up)\n",
      "epoch : 94 iter : 18 (4m 43s) / data done: 62.2% from 126900 / loss: 0.9414 / writing ✓\n",
      "epoch : 103 iter : 41 (5m 12s) / data done: 68.5% from 126900 / loss: 1.1905 / jump up ✗ (take off a hat)\n",
      "epoch : 113 iter : 11 (5m 42s) / data done: 74.8% from 126900 / loss: 0.788 / cheer up ✗ (hand waving)\n",
      "epoch : 122 iter : 34 (6m 11s) / data done: 81.1% from 126900 / loss: 1.4081 / clapping ✓\n",
      "epoch : 132 iter : 4 (6m 40s) / data done: 87.4% from 126900 / loss: 1.0472 / hand waving ✓\n",
      "epoch : 141 iter : 27 (7m 9s) / data done: 93.7% from 126900 / loss: 0.8986 / tear up paper ✓\n",
      "Wall time: 7min 35s\n"
     ]
    }
   ],
   "source": [
    "%%time\n",
    "criterion = nn.CrossEntropyLoss()\n",
    "learning_rate = 0.0007\n",
    "momentum = 0.9\n",
    "optimizer = optim.SGD(rnn.parameters(), lr=learning_rate, momentum=momentum, nesterov=True)\n",
    "epoches = 150\n",
    "data_whole = len(train_loader.dataset)*epoches\n",
    "\n",
    "all_losses = []\n",
    "start = time.time()\n",
    "counter = 0\n",
    "for epoch in range(epoches):  \n",
    "    current_loss = 0\n",
    "    running_loss = 0.0\n",
    "    for i, data in enumerate(train_loader, 0):\n",
    "        \n",
    "        inputs, labels = data[0].to(device), data[1].to(device)\n",
    "    \n",
    "        optimizer.zero_grad()\n",
    "    \n",
    "        output = rnn(inputs.float())\n",
    "        loss = criterion(output, labels)\n",
    "        loss.backward()\n",
    "        optimizer.step() \n",
    "\n",
    "\n",
    "        current_loss += loss.item()\n",
    "        category = LABELS[int(labels[0])]\n",
    "\n",
    "        if counter % 500 == 0:\n",
    "            guess, guess_i = categoryFromOutput(output)\n",
    "            correct = '✓' if guess == category else '✗ (%s)' % category\n",
    "            data_done = i * len(inputs) + (epoch-1) * len(train_loader.dataset)\n",
    "            if data_done < 0:\n",
    "                data_done = 0\n",
    "            data_done_perc = round(100. * data_done / data_whole, 1)\n",
    "\n",
    "            print(f'epoch : {epoch} iter : {i} ({timeSince(start)}) / \\\n",
    "data done: {data_done_perc}% from {data_whole} / \\\n",
    "loss: {round(float(loss),4)} / {guess} {correct}')\n",
    "            all_losses.append(current_loss / 25)\n",
    "        counter = counter + 1"
   ]
  },
  {
   "cell_type": "markdown",
   "metadata": {},
   "source": [
    "__Результат экспериментов с параметрами модели для увеличения качества:__\n",
    "\n",
    "- В первую очередь я включил параметр nesterov=True, который немного уменьшил loss. \n",
    "- Уменьшение кол-ва нейронов с 128 до 96 привело к небольшому уменьшению времени обучения без особого выигрыша в качестве модели. Но дополнительное включение слоя dropout уменьшило заметно loss.\n",
    "- Увеличение кол-ва внутренних слоев с 2-х до 5-ти конечно же увеличело существенно время обучения, а на качестве отразилось отрицательно. Уменьшение кол-ва слоев до 1-го тоже не дало положительного результата в качестве.\n",
    "- Я также попробовал разные уровни дропаута - 0.25 подошло лучше всего\n",
    "\n",
    "#### Итоговая модель: 2 слоя, 96 нейрона, включен слой дропаут, без нормализации. \n",
    "#### Accuracy увеличилось с 52.17 до 78,26 для 150 эпох.\n",
    "#### График:"
   ]
  },
  {
   "cell_type": "code",
   "execution_count": 515,
   "metadata": {},
   "outputs": [
    {
     "name": "stdout",
     "output_type": "stream",
     "text": [
      "Кадров: 35, эпох: 150, lr: 0.0007, momentum: 0.9, last loss: 1.1864256167411804\n"
     ]
    },
    {
     "data": {
      "image/png": "[encoded data removed]",
      "text/plain": [
       "<Figure size 432x288 with 1 Axes>"
      ]
     },
     "metadata": {
      "needs_background": "light"
     },
     "output_type": "display_data"
    }
   ],
   "source": [
    "# Обучение итоговой модели длилось 7,5 минут\n",
    "print(f'Кадров: {n_kadr}, эпох: {epoches}, lr: {learning_rate}, momentum: {momentum}, last loss: {all_losses[-1]}')\n",
    "%matplotlib inline\n",
    "plt.plot(list(range(0,len(all_losses))),all_losses)\n",
    "plt.show()"
   ]
  },
  {
   "cell_type": "code",
   "execution_count": 516,
   "metadata": {},
   "outputs": [
    {
     "name": "stdout",
     "output_type": "stream",
     "text": [
      "Accuracy of the network:   78.26086956521739\n"
     ]
    }
   ],
   "source": [
    "total = 0\n",
    "right = 0\n",
    "counter = 0\n",
    "with torch.no_grad():\n",
    "    for i, data in enumerate(test_loader, 0):\n",
    "        counter = counter + 1\n",
    "        inputs, labels = data[0].to(device), data[1].to(device)   \n",
    "        output = rnn(inputs.float())\n",
    "        guess, guess_i = categoryFromOutput(output)\n",
    "        category = LABELS[int(labels[0])]\n",
    "        \n",
    "        if guess == category:\n",
    "            right = right + 1\n",
    "\n",
    "\n",
    "print('Accuracy of the network:  ',  (100 * right / counter))"
   ]
  },
  {
   "cell_type": "markdown",
   "metadata": {},
   "source": [
    "__Результат экспериментов с кол-вом кадров:__ \n",
    "\n",
    "При уменьшении кол-ва кадров с 45 до 35 loss уменьшился и время на обучение тоже существенно снизилось (с 13 до 8 минут). Дальнейшее уменьшение с 35 до 25 кадров не привело к существенному уменьшению времени (с 8 до 7 минут), а loss вырос. Можно сказать, что кол-во кадров - это гиперпараметр нейронной сети, который нужно подбирать. Чем меньше его делать, тем выше будет скорость обучения.\n",
    "\n",
    "Тестировал все на 150 эпохах для скорости."
   ]
  },
  {
   "cell_type": "code",
   "execution_count": 259,
   "metadata": {},
   "outputs": [
    {
     "name": "stdout",
     "output_type": "stream",
     "text": [
      "Кадров: 25, эпох: 150, lr: 0.0007, momentum: 0.9, min loss: 2.7391418504714964\n"
     ]
    },
    {
     "data": {
      "image/png": "[encoded data removed]",
      "text/plain": [
       "<Figure size 432x288 with 1 Axes>"
      ]
     },
     "metadata": {
      "needs_background": "light"
     },
     "output_type": "display_data"
    }
   ],
   "source": [
    "#Обучение с 25 кадрами длилось 7 минут\n",
    "print(f'Кадров: {n_kadr}, эпох: {epoches}, lr: {learning_rate}, momentum: {momentum}, min loss: {min(all_losses)}')\n",
    "%matplotlib inline\n",
    "plt.plot(list(range(0,len(all_losses))),all_losses)\n",
    "plt.show()"
   ]
  },
  {
   "cell_type": "code",
   "execution_count": 345,
   "metadata": {},
   "outputs": [
    {
     "name": "stdout",
     "output_type": "stream",
     "text": [
      "Кадров: 35, эпох: 150, lr: 0.0007, momentum: 0.9, min loss: 0.08906577110290527\n"
     ]
    },
    {
     "data": {
      "image/png": "[encoded data removed]",
      "text/plain": [
       "<Figure size 432x288 with 1 Axes>"
      ]
     },
     "metadata": {
      "needs_background": "light"
     },
     "output_type": "display_data"
    }
   ],
   "source": [
    "#Обучение с 35 кадрами длилось 8 минут\n",
    "print(f'Кадров: {n_kadr}, эпох: {epoches}, lr: {learning_rate}, momentum: {momentum}, min loss: {min(all_losses)}')\n",
    "%matplotlib inline\n",
    "plt.plot(list(range(0,len(all_losses))),all_losses)\n",
    "plt.show()"
   ]
  },
  {
   "cell_type": "code",
   "execution_count": 205,
   "metadata": {
    "scrolled": true
   },
   "outputs": [
    {
     "name": "stdout",
     "output_type": "stream",
     "text": [
      "Эпох: 150, lr: 0.0007, momentum: 0.9, min loss: 1.9925461602210999\n"
     ]
    },
    {
     "data": {
      "image/png": "[encoded data removed]",
      "text/plain": [
       "<Figure size 432x288 with 1 Axes>"
      ]
     },
     "metadata": {
      "needs_background": "light"
     },
     "output_type": "display_data"
    }
   ],
   "source": [
    "#Обучение c 45 кадрами длилось 13 минут\n",
    "print(f'Эпох: {epoches}, lr: {learning_rate}, momentum: {momentum}, min loss: {min(all_losses)}')\n",
    "%matplotlib inline\n",
    "plt.plot(list(range(0,len(all_losses))),all_losses)\n",
    "plt.show()"
   ]
  }
 ],
 "metadata": {
  "kernelspec": {
   "display_name": "Python 3",
   "language": "python",
   "name": "python3"
  },
  "language_info": {
   "codemirror_mode": {
    "name": "ipython",
    "version": 3
   },
   "file_extension": ".py",
   "mimetype": "text/x-python",
   "name": "python",
   "nbconvert_exporter": "python",
   "pygments_lexer": "ipython3",
   "version": "3.7.7"
  }
 },
 "nbformat": 4,
 "nbformat_minor": 4
}
