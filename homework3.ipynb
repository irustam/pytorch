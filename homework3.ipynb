{
 "cells": [
  {
   "cell_type": "markdown",
   "metadata": {},
   "source": [
    "# GAN (Generative Adversarial Network)\n",
    "## Генеративно-состязательная нейросеть"
   ]
  },
  {
   "cell_type": "code",
   "execution_count": 216,
   "metadata": {},
   "outputs": [],
   "source": [
    "import os\n",
    "import numpy as np\n",
    "import math\n",
    "\n",
    "from torch.utils.data import DataLoader\n",
    "import torchvision.transforms as transforms\n",
    "from torchvision import datasets\n",
    "from torch.autograd import Variable\n",
    "\n",
    "import torch.nn as nn\n",
    "import torch\n",
    "\n",
    "########### Вывод изображений и сохранение ################################\n",
    "import matplotlib.pyplot as plt\n",
    "from IPython import display\n",
    "from torchvision.utils import save_image, make_grid\n",
    "import matplotlib.patches as mpatches\n",
    "import os\n",
    "\n",
    "os.environ['KMP_DUPLICATE_LIB_OK']='True'"
   ]
  },
  {
   "cell_type": "code",
   "execution_count": 217,
   "metadata": {},
   "outputs": [
    {
     "name": "stdout",
     "output_type": "stream",
     "text": [
      "cpu\n"
     ]
    }
   ],
   "source": [
    "use_cuda = torch.cuda.is_available()\n",
    "# device = torch.device(\"cpu\")\n",
    "device = torch.device('cuda') if torch.cuda.is_available() else torch.device('cpu')\n",
    "print(device)"
   ]
  },
  {
   "cell_type": "markdown",
   "metadata": {},
   "source": [
    "Домашнее задание: \n",
    "\n",
    "1. Как было сказано ранее, GAN обучается воспроизводить реальные данные. Поэтому Вам предлагается обучить генератор создавать точки, которые будут лежать на графике функции $y = \\frac{sin(x)}{x} - \\frac{x}{10}$. При выполненинии данного задания структура GAN остается той же, но Вам нужно:\n",
    " * Сгенерировать настоящие данные\n",
    " * Изменить архитектуру дискриминатора и генератора\n",
    " * Без графиков домашку не принимаю"
   ]
  },
  {
   "cell_type": "code",
   "execution_count": 152,
   "metadata": {},
   "outputs": [
    {
     "data": {
      "text/plain": [
       "1024"
      ]
     },
     "execution_count": 152,
     "metadata": {},
     "output_type": "execute_result"
    }
   ],
   "source": [
    "x_size = 1024\n",
    "start_at = 1\n",
    "end_at = 10\n",
    "x = np.linspace(start_at, end_at, x_size)\n",
    "len(x)"
   ]
  },
  {
   "cell_type": "code",
   "execution_count": 153,
   "metadata": {},
   "outputs": [
    {
     "data": {
      "text/plain": [
       "1024"
      ]
     },
     "execution_count": 153,
     "metadata": {},
     "output_type": "execute_result"
    }
   ],
   "source": [
    "def func_y(x):\n",
    "    return np.sin(x)/x - x/10\n",
    "y = func_y(x)\n",
    "len(y)"
   ]
  },
  {
   "cell_type": "code",
   "execution_count": 154,
   "metadata": {},
   "outputs": [
    {
     "data": {
      "text/plain": [
       "[<matplotlib.lines.Line2D at 0x2022e5e4808>]"
      ]
     },
     "execution_count": 154,
     "metadata": {},
     "output_type": "execute_result"
    },
    {
     "data": {
      "image/png": "[encoded data removed]",
      "text/plain": [
       "<Figure size 432x288 with 1 Axes>"
      ]
     },
     "metadata": {
      "needs_background": "light"
     },
     "output_type": "display_data"
    }
   ],
   "source": [
    "plt.plot(x, y, \".\")"
   ]
  },
  {
   "cell_type": "code",
   "execution_count": 162,
   "metadata": {},
   "outputs": [
    {
     "data": {
      "text/plain": [
       "1024"
      ]
     },
     "execution_count": 162,
     "metadata": {},
     "output_type": "execute_result"
    }
   ],
   "source": [
    "data_xy = torch.FloatTensor(list(zip(x, y)))\n",
    "labels = torch.zeros(x_size)\n",
    "dataset = list(zip(data_xy, labels))\n",
    "len(dataset)"
   ]
  },
  {
   "cell_type": "code",
   "execution_count": 164,
   "metadata": {},
   "outputs": [],
   "source": [
    "batch_size = 32\n",
    "real_data = DataLoader(\n",
    "    dataset,\n",
    "    batch_size=batch_size,\n",
    "    shuffle=True,\n",
    ")"
   ]
  },
  {
   "cell_type": "code",
   "execution_count": 206,
   "metadata": {},
   "outputs": [],
   "source": [
    "n_epochs = 300\n",
    "lr = 0.0002\n",
    "\n",
    "b1 = 0.5\n",
    "b2 = 0.999\n",
    "\n",
    "latent_dim = 2\n",
    "sample_interval = 25"
   ]
  },
  {
   "cell_type": "code",
   "execution_count": 207,
   "metadata": {},
   "outputs": [
    {
     "name": "stdout",
     "output_type": "stream",
     "text": [
      "0 torch.Size([32, 2])\n",
      "0 torch.Size([32])\n"
     ]
    }
   ],
   "source": [
    "for i, (imgs, labels) in enumerate(real_data):\n",
    "    if i % 440 == 0:\n",
    "        print(i, imgs.size())\n",
    "        print(i, labels.size())"
   ]
  },
  {
   "cell_type": "code",
   "execution_count": 208,
   "metadata": {},
   "outputs": [],
   "source": [
    "class CustomLinearLayer(nn.Module):\n",
    "    def __init__(self, size_in, size_out):\n",
    "        super().__init__()\n",
    "        self.size_in, self.size_out = size_in, size_out\n",
    "        \n",
    "        weights = torch.Tensor(size_out, size_in)\n",
    "        self.weights = nn.Parameter(weights) \n",
    "\n",
    "        bias = torch.Tensor(size_out)\n",
    "        self.bias = nn.Parameter(bias)\n",
    "\n",
    "        nn.init.uniform_(self.weights, -0.005, 0.005) \n",
    "        nn.init.uniform_(self.bias, -0.005, 0.005)  \n",
    "\n",
    "    def forward(self, x):\n",
    "        w_times_x = torch.mm(x, self.weights.t())\n",
    "        return torch.add(w_times_x, self.bias)  "
   ]
  },
  {
   "cell_type": "code",
   "execution_count": 209,
   "metadata": {},
   "outputs": [],
   "source": [
    "class Discriminator(nn.Module):\n",
    "    def __init__(self):\n",
    "        super().__init__()\n",
    "\n",
    "        self.model = nn.Sequential(\n",
    "            nn.Linear(2, 256),\n",
    "            nn.ReLU(),\n",
    "            CustomLinearLayer(256, 128),\n",
    "            nn.LeakyReLU(0.2, inplace=True),\n",
    "            CustomLinearLayer(128, 64),\n",
    "            nn.LeakyReLU(0.2, inplace=True),\n",
    "            CustomLinearLayer(64, 1),\n",
    "            nn.Sigmoid(),\n",
    "        )\n",
    "\n",
    "    def forward(self, x):\n",
    "        validity = self.model(x)\n",
    "        return validity"
   ]
  },
  {
   "cell_type": "code",
   "execution_count": 210,
   "metadata": {},
   "outputs": [],
   "source": [
    "class Generator(nn.Module):\n",
    "    def __init__(self):\n",
    "        super().__init__()\n",
    "        \n",
    "        def block(in_feat, out_feat, normalize=True): #activation='relu\n",
    "            layers = [nn.Linear(in_feat, out_feat)]\n",
    "            if normalize:\n",
    "                layers.append(nn.BatchNorm1d(out_feat, 0.8))\n",
    "            layers.append(nn.LeakyReLU(0.2, inplace=True))\n",
    "            return layers\n",
    "\n",
    "        self.model = nn.Sequential(\n",
    "            *block(latent_dim, 16, normalize=False),\n",
    "            *block(16, 32),\n",
    "            nn.Linear(32, 2),\n",
    "        )\n",
    "\n",
    "    def forward(self, z):\n",
    "        res = self.model(z)\n",
    "        return res"
   ]
  },
  {
   "cell_type": "code",
   "execution_count": 211,
   "metadata": {},
   "outputs": [],
   "source": [
    "generator = Generator().to(device)\n",
    "discriminator = Discriminator().to(device)\n",
    "\n",
    "\n",
    "optimizer_G = torch.optim.Adam(generator.parameters(), lr=lr, betas=(b1, b2))\n",
    "optimizer_D = torch.optim.Adam(discriminator.parameters(), lr=lr, betas=(b1, b2))\n",
    "\n",
    "adversarial_loss = torch.nn.BCELoss()"
   ]
  },
  {
   "cell_type": "code",
   "execution_count": 212,
   "metadata": {},
   "outputs": [],
   "source": [
    "d_loss_history = []\n",
    "g_loss_history = []\n",
    "xy_gen = []"
   ]
  },
  {
   "cell_type": "code",
   "execution_count": 213,
   "metadata": {
    "scrolled": true
   },
   "outputs": [
    {
     "name": "stdout",
     "output_type": "stream",
     "text": [
      "[Epoch 0/300] [Batch 0/32] [D loss: 0.693136] [G loss: 0.694427]\n",
      "[Epoch 0/300] [Batch 25/32] [D loss: 0.578537] [G loss: 0.703033]\n",
      "[Epoch 1/300] [Batch 18/32] [D loss: 0.318791] [G loss: 0.915052]\n",
      "[Epoch 2/300] [Batch 11/32] [D loss: 0.168911] [G loss: 1.711598]\n",
      "[Epoch 3/300] [Batch 4/32] [D loss: 0.162625] [G loss: 2.495275]\n",
      "[Epoch 3/300] [Batch 29/32] [D loss: 0.185426] [G loss: 2.887357]\n",
      "[Epoch 4/300] [Batch 22/32] [D loss: 0.156366] [G loss: 3.071746]\n",
      "[Epoch 5/300] [Batch 15/32] [D loss: 0.133928] [G loss: 3.106514]\n",
      "[Epoch 6/300] [Batch 8/32] [D loss: 0.300092] [G loss: 2.908512]\n",
      "[Epoch 7/300] [Batch 1/32] [D loss: 0.152416] [G loss: 2.701557]\n",
      "[Epoch 7/300] [Batch 26/32] [D loss: 0.397715] [G loss: 2.488669]\n",
      "[Epoch 8/300] [Batch 19/32] [D loss: 0.285514] [G loss: 2.477088]\n",
      "[Epoch 9/300] [Batch 12/32] [D loss: 0.232595] [G loss: 2.400049]\n",
      "[Epoch 10/300] [Batch 5/32] [D loss: 0.266292] [G loss: 2.203903]\n",
      "[Epoch 10/300] [Batch 30/32] [D loss: 0.270317] [G loss: 2.338906]\n",
      "[Epoch 11/300] [Batch 23/32] [D loss: 0.212261] [G loss: 2.175604]\n",
      "[Epoch 12/300] [Batch 16/32] [D loss: 0.245881] [G loss: 1.888086]\n",
      "[Epoch 13/300] [Batch 9/32] [D loss: 0.375592] [G loss: 1.968542]\n",
      "[Epoch 14/300] [Batch 2/32] [D loss: 0.487011] [G loss: 1.697388]\n",
      "[Epoch 14/300] [Batch 27/32] [D loss: 0.409618] [G loss: 2.084561]\n",
      "[Epoch 15/300] [Batch 20/32] [D loss: 0.389142] [G loss: 1.719290]\n",
      "[Epoch 16/300] [Batch 13/32] [D loss: 0.262361] [G loss: 1.634160]\n",
      "[Epoch 17/300] [Batch 6/32] [D loss: 0.309893] [G loss: 1.560010]\n",
      "[Epoch 17/300] [Batch 31/32] [D loss: 0.345687] [G loss: 1.661533]\n",
      "[Epoch 18/300] [Batch 24/32] [D loss: 0.488468] [G loss: 1.699796]\n",
      "[Epoch 19/300] [Batch 17/32] [D loss: 0.451652] [G loss: 1.472037]\n",
      "[Epoch 20/300] [Batch 10/32] [D loss: 0.376772] [G loss: 1.526431]\n",
      "[Epoch 21/300] [Batch 3/32] [D loss: 0.275716] [G loss: 1.478120]\n",
      "[Epoch 21/300] [Batch 28/32] [D loss: 0.393250] [G loss: 1.433836]\n",
      "[Epoch 22/300] [Batch 21/32] [D loss: 0.500947] [G loss: 1.386589]\n",
      "[Epoch 23/300] [Batch 14/32] [D loss: 0.481144] [G loss: 1.428086]\n",
      "[Epoch 24/300] [Batch 7/32] [D loss: 0.500546] [G loss: 1.392652]\n",
      "[Epoch 25/300] [Batch 0/32] [D loss: 0.553455] [G loss: 1.298900]\n",
      "[Epoch 25/300] [Batch 25/32] [D loss: 0.470092] [G loss: 1.332133]\n",
      "[Epoch 26/300] [Batch 18/32] [D loss: 0.552462] [G loss: 1.163525]\n",
      "[Epoch 27/300] [Batch 11/32] [D loss: 0.427508] [G loss: 1.281483]\n",
      "[Epoch 28/300] [Batch 4/32] [D loss: 0.434227] [G loss: 1.259883]\n",
      "[Epoch 28/300] [Batch 29/32] [D loss: 0.471111] [G loss: 1.266112]\n",
      "[Epoch 29/300] [Batch 22/32] [D loss: 0.539029] [G loss: 1.111791]\n",
      "[Epoch 30/300] [Batch 15/32] [D loss: 0.489054] [G loss: 1.244854]\n",
      "[Epoch 31/300] [Batch 8/32] [D loss: 0.467615] [G loss: 1.029688]\n",
      "[Epoch 32/300] [Batch 1/32] [D loss: 0.534359] [G loss: 0.986272]\n",
      "[Epoch 32/300] [Batch 26/32] [D loss: 0.497831] [G loss: 1.064977]\n",
      "[Epoch 33/300] [Batch 19/32] [D loss: 0.490231] [G loss: 1.003393]\n",
      "[Epoch 34/300] [Batch 12/32] [D loss: 0.571607] [G loss: 1.075149]\n",
      "[Epoch 35/300] [Batch 5/32] [D loss: 0.580116] [G loss: 1.061395]\n",
      "[Epoch 35/300] [Batch 30/32] [D loss: 0.638421] [G loss: 1.092069]\n",
      "[Epoch 36/300] [Batch 23/32] [D loss: 0.590914] [G loss: 1.039371]\n",
      "[Epoch 37/300] [Batch 16/32] [D loss: 0.632377] [G loss: 1.040286]\n",
      "[Epoch 38/300] [Batch 9/32] [D loss: 0.508896] [G loss: 0.968804]\n",
      "[Epoch 39/300] [Batch 2/32] [D loss: 0.453430] [G loss: 0.912587]\n",
      "[Epoch 39/300] [Batch 27/32] [D loss: 0.515280] [G loss: 0.983922]\n",
      "[Epoch 40/300] [Batch 20/32] [D loss: 0.546640] [G loss: 0.991010]\n",
      "[Epoch 41/300] [Batch 13/32] [D loss: 0.543759] [G loss: 0.999785]\n",
      "[Epoch 42/300] [Batch 6/32] [D loss: 0.654776] [G loss: 0.950464]\n",
      "[Epoch 42/300] [Batch 31/32] [D loss: 0.656492] [G loss: 0.880934]\n",
      "[Epoch 43/300] [Batch 24/32] [D loss: 0.539020] [G loss: 0.898520]\n",
      "[Epoch 44/300] [Batch 17/32] [D loss: 0.591915] [G loss: 0.865556]\n",
      "[Epoch 45/300] [Batch 10/32] [D loss: 0.604645] [G loss: 0.928431]\n",
      "[Epoch 46/300] [Batch 3/32] [D loss: 0.648921] [G loss: 0.893215]\n",
      "[Epoch 46/300] [Batch 28/32] [D loss: 0.561103] [G loss: 0.754617]\n",
      "[Epoch 47/300] [Batch 21/32] [D loss: 0.644857] [G loss: 0.928566]\n",
      "[Epoch 48/300] [Batch 14/32] [D loss: 0.631313] [G loss: 0.811725]\n",
      "[Epoch 49/300] [Batch 7/32] [D loss: 0.586165] [G loss: 0.830127]\n",
      "[Epoch 50/300] [Batch 0/32] [D loss: 0.545523] [G loss: 0.914718]\n",
      "[Epoch 50/300] [Batch 25/32] [D loss: 0.635673] [G loss: 0.842677]\n",
      "[Epoch 51/300] [Batch 18/32] [D loss: 0.637962] [G loss: 1.102703]\n",
      "[Epoch 52/300] [Batch 11/32] [D loss: 0.648217] [G loss: 0.799846]\n",
      "[Epoch 53/300] [Batch 4/32] [D loss: 0.612984] [G loss: 0.771544]\n",
      "[Epoch 53/300] [Batch 29/32] [D loss: 0.632549] [G loss: 0.833873]\n",
      "[Epoch 54/300] [Batch 22/32] [D loss: 0.644303] [G loss: 0.690632]\n",
      "[Epoch 55/300] [Batch 15/32] [D loss: 0.665496] [G loss: 0.802795]\n",
      "[Epoch 56/300] [Batch 8/32] [D loss: 0.632106] [G loss: 0.817077]\n",
      "[Epoch 57/300] [Batch 1/32] [D loss: 0.621733] [G loss: 0.864141]\n",
      "[Epoch 57/300] [Batch 26/32] [D loss: 0.634483] [G loss: 0.832366]\n",
      "[Epoch 58/300] [Batch 19/32] [D loss: 0.625444] [G loss: 0.751332]\n",
      "[Epoch 59/300] [Batch 12/32] [D loss: 0.690639] [G loss: 0.685011]\n",
      "[Epoch 60/300] [Batch 5/32] [D loss: 0.656354] [G loss: 0.799219]\n",
      "[Epoch 60/300] [Batch 30/32] [D loss: 0.628214] [G loss: 0.712816]\n",
      "[Epoch 61/300] [Batch 23/32] [D loss: 0.644130] [G loss: 0.837749]\n",
      "[Epoch 62/300] [Batch 16/32] [D loss: 0.657619] [G loss: 0.869628]\n",
      "[Epoch 63/300] [Batch 9/32] [D loss: 0.634275] [G loss: 0.830821]\n",
      "[Epoch 64/300] [Batch 2/32] [D loss: 0.694051] [G loss: 0.624752]\n",
      "[Epoch 64/300] [Batch 27/32] [D loss: 0.666886] [G loss: 0.913446]\n",
      "[Epoch 65/300] [Batch 20/32] [D loss: 0.664088] [G loss: 0.703886]\n",
      "[Epoch 66/300] [Batch 13/32] [D loss: 0.645769] [G loss: 0.829123]\n",
      "[Epoch 67/300] [Batch 6/32] [D loss: 0.660363] [G loss: 0.836520]\n",
      "[Epoch 67/300] [Batch 31/32] [D loss: 0.656594] [G loss: 0.601093]\n",
      "[Epoch 68/300] [Batch 24/32] [D loss: 0.645534] [G loss: 0.726286]\n",
      "[Epoch 69/300] [Batch 17/32] [D loss: 0.632816] [G loss: 0.734567]\n",
      "[Epoch 70/300] [Batch 10/32] [D loss: 0.650951] [G loss: 0.712583]\n",
      "[Epoch 71/300] [Batch 3/32] [D loss: 0.659307] [G loss: 0.916367]\n",
      "[Epoch 71/300] [Batch 28/32] [D loss: 0.641702] [G loss: 0.942134]\n",
      "[Epoch 72/300] [Batch 21/32] [D loss: 0.660617] [G loss: 0.857622]\n",
      "[Epoch 73/300] [Batch 14/32] [D loss: 0.607264] [G loss: 0.795136]\n",
      "[Epoch 74/300] [Batch 7/32] [D loss: 0.653999] [G loss: 0.993740]\n",
      "[Epoch 75/300] [Batch 0/32] [D loss: 0.658607] [G loss: 0.685571]\n",
      "[Epoch 75/300] [Batch 25/32] [D loss: 0.648778] [G loss: 0.895780]\n",
      "[Epoch 76/300] [Batch 18/32] [D loss: 0.654620] [G loss: 0.691603]\n",
      "[Epoch 77/300] [Batch 11/32] [D loss: 0.673439] [G loss: 0.732444]\n",
      "[Epoch 78/300] [Batch 4/32] [D loss: 0.636870] [G loss: 0.803560]\n",
      "[Epoch 78/300] [Batch 29/32] [D loss: 0.623499] [G loss: 0.697307]\n",
      "[Epoch 79/300] [Batch 22/32] [D loss: 0.667796] [G loss: 0.707270]\n",
      "[Epoch 80/300] [Batch 15/32] [D loss: 0.749221] [G loss: 0.467879]\n",
      "[Epoch 81/300] [Batch 8/32] [D loss: 0.672852] [G loss: 0.783662]\n",
      "[Epoch 82/300] [Batch 1/32] [D loss: 0.623383] [G loss: 0.802344]\n",
      "[Epoch 82/300] [Batch 26/32] [D loss: 0.611714] [G loss: 0.836117]\n",
      "[Epoch 83/300] [Batch 19/32] [D loss: 0.652615] [G loss: 0.762978]\n",
      "[Epoch 84/300] [Batch 12/32] [D loss: 0.641783] [G loss: 0.742059]\n",
      "[Epoch 85/300] [Batch 5/32] [D loss: 0.639185] [G loss: 0.993450]\n",
      "[Epoch 85/300] [Batch 30/32] [D loss: 0.602683] [G loss: 0.764352]\n",
      "[Epoch 86/300] [Batch 23/32] [D loss: 0.640924] [G loss: 0.864180]\n",
      "[Epoch 87/300] [Batch 16/32] [D loss: 0.643775] [G loss: 1.007517]\n",
      "[Epoch 88/300] [Batch 9/32] [D loss: 0.660524] [G loss: 0.861071]\n",
      "[Epoch 89/300] [Batch 2/32] [D loss: 0.680415] [G loss: 0.769084]\n",
      "[Epoch 89/300] [Batch 27/32] [D loss: 0.632996] [G loss: 0.796668]\n",
      "[Epoch 90/300] [Batch 20/32] [D loss: 0.691215] [G loss: 0.649446]\n",
      "[Epoch 91/300] [Batch 13/32] [D loss: 0.691122] [G loss: 0.849658]\n",
      "[Epoch 92/300] [Batch 6/32] [D loss: 0.649830] [G loss: 0.877135]\n",
      "[Epoch 92/300] [Batch 31/32] [D loss: 0.660116] [G loss: 0.761659]\n",
      "[Epoch 93/300] [Batch 24/32] [D loss: 0.710333] [G loss: 0.572275]\n",
      "[Epoch 94/300] [Batch 17/32] [D loss: 0.664319] [G loss: 0.916505]\n",
      "[Epoch 95/300] [Batch 10/32] [D loss: 0.645340] [G loss: 0.845824]\n",
      "[Epoch 96/300] [Batch 3/32] [D loss: 0.643143] [G loss: 0.859513]\n"
     ]
    },
    {
     "name": "stdout",
     "output_type": "stream",
     "text": [
      "[Epoch 96/300] [Batch 28/32] [D loss: 0.652744] [G loss: 0.773071]\n",
      "[Epoch 97/300] [Batch 21/32] [D loss: 0.638263] [G loss: 0.760083]\n",
      "[Epoch 98/300] [Batch 14/32] [D loss: 0.663942] [G loss: 0.666259]\n",
      "[Epoch 99/300] [Batch 7/32] [D loss: 0.575061] [G loss: 0.919415]\n",
      "[Epoch 100/300] [Batch 0/32] [D loss: 0.659040] [G loss: 0.676506]\n",
      "[Epoch 100/300] [Batch 25/32] [D loss: 0.671362] [G loss: 0.684362]\n",
      "[Epoch 101/300] [Batch 18/32] [D loss: 0.655588] [G loss: 0.740172]\n",
      "[Epoch 102/300] [Batch 11/32] [D loss: 0.653823] [G loss: 0.731900]\n",
      "[Epoch 103/300] [Batch 4/32] [D loss: 0.667464] [G loss: 0.709527]\n",
      "[Epoch 103/300] [Batch 29/32] [D loss: 0.633958] [G loss: 0.791105]\n",
      "[Epoch 104/300] [Batch 22/32] [D loss: 0.666676] [G loss: 0.572926]\n",
      "[Epoch 105/300] [Batch 15/32] [D loss: 0.649475] [G loss: 0.647801]\n",
      "[Epoch 106/300] [Batch 8/32] [D loss: 0.659243] [G loss: 0.655448]\n",
      "[Epoch 107/300] [Batch 1/32] [D loss: 0.647784] [G loss: 0.715592]\n",
      "[Epoch 107/300] [Batch 26/32] [D loss: 0.681061] [G loss: 0.896433]\n",
      "[Epoch 108/300] [Batch 19/32] [D loss: 0.673809] [G loss: 0.740922]\n",
      "[Epoch 109/300] [Batch 12/32] [D loss: 0.664877] [G loss: 0.821527]\n",
      "[Epoch 110/300] [Batch 5/32] [D loss: 0.654465] [G loss: 0.848206]\n",
      "[Epoch 110/300] [Batch 30/32] [D loss: 0.654751] [G loss: 0.721519]\n",
      "[Epoch 111/300] [Batch 23/32] [D loss: 0.655275] [G loss: 0.699221]\n",
      "[Epoch 112/300] [Batch 16/32] [D loss: 0.694794] [G loss: 0.933065]\n",
      "[Epoch 113/300] [Batch 9/32] [D loss: 0.668666] [G loss: 0.661280]\n",
      "[Epoch 114/300] [Batch 2/32] [D loss: 0.635739] [G loss: 0.929022]\n",
      "[Epoch 114/300] [Batch 27/32] [D loss: 0.637955] [G loss: 0.770815]\n",
      "[Epoch 115/300] [Batch 20/32] [D loss: 0.632079] [G loss: 0.672345]\n",
      "[Epoch 116/300] [Batch 13/32] [D loss: 0.595964] [G loss: 0.941319]\n",
      "[Epoch 117/300] [Batch 6/32] [D loss: 0.646951] [G loss: 0.713531]\n",
      "[Epoch 117/300] [Batch 31/32] [D loss: 0.645136] [G loss: 0.934742]\n",
      "[Epoch 118/300] [Batch 24/32] [D loss: 0.673936] [G loss: 0.760947]\n",
      "[Epoch 119/300] [Batch 17/32] [D loss: 0.630817] [G loss: 0.837332]\n",
      "[Epoch 120/300] [Batch 10/32] [D loss: 0.612163] [G loss: 0.830833]\n",
      "[Epoch 121/300] [Batch 3/32] [D loss: 0.674285] [G loss: 0.666490]\n",
      "[Epoch 121/300] [Batch 28/32] [D loss: 0.635372] [G loss: 0.688140]\n",
      "[Epoch 122/300] [Batch 21/32] [D loss: 0.697695] [G loss: 0.529508]\n",
      "[Epoch 123/300] [Batch 14/32] [D loss: 0.641206] [G loss: 0.770343]\n",
      "[Epoch 124/300] [Batch 7/32] [D loss: 0.655112] [G loss: 0.760762]\n",
      "[Epoch 125/300] [Batch 0/32] [D loss: 0.642202] [G loss: 0.637783]\n",
      "[Epoch 125/300] [Batch 25/32] [D loss: 0.665103] [G loss: 0.858167]\n",
      "[Epoch 126/300] [Batch 18/32] [D loss: 0.692696] [G loss: 1.098579]\n",
      "[Epoch 127/300] [Batch 11/32] [D loss: 0.656588] [G loss: 0.723580]\n",
      "[Epoch 128/300] [Batch 4/32] [D loss: 0.669831] [G loss: 0.741440]\n",
      "[Epoch 128/300] [Batch 29/32] [D loss: 0.649311] [G loss: 0.705122]\n",
      "[Epoch 129/300] [Batch 22/32] [D loss: 0.623681] [G loss: 0.970547]\n",
      "[Epoch 130/300] [Batch 15/32] [D loss: 0.623819] [G loss: 0.863398]\n",
      "[Epoch 131/300] [Batch 8/32] [D loss: 0.663058] [G loss: 0.895620]\n",
      "[Epoch 132/300] [Batch 1/32] [D loss: 0.689158] [G loss: 0.717271]\n",
      "[Epoch 132/300] [Batch 26/32] [D loss: 0.651822] [G loss: 0.693931]\n",
      "[Epoch 133/300] [Batch 19/32] [D loss: 0.685457] [G loss: 0.628142]\n",
      "[Epoch 134/300] [Batch 12/32] [D loss: 0.695394] [G loss: 0.593059]\n",
      "[Epoch 135/300] [Batch 5/32] [D loss: 0.701333] [G loss: 0.448163]\n",
      "[Epoch 135/300] [Batch 30/32] [D loss: 0.639483] [G loss: 0.722010]\n",
      "[Epoch 136/300] [Batch 23/32] [D loss: 0.607686] [G loss: 0.950869]\n",
      "[Epoch 137/300] [Batch 16/32] [D loss: 0.628237] [G loss: 0.891594]\n",
      "[Epoch 138/300] [Batch 9/32] [D loss: 0.616461] [G loss: 0.836963]\n",
      "[Epoch 139/300] [Batch 2/32] [D loss: 0.634880] [G loss: 0.776127]\n",
      "[Epoch 139/300] [Batch 27/32] [D loss: 0.696419] [G loss: 0.629457]\n",
      "[Epoch 140/300] [Batch 20/32] [D loss: 0.656246] [G loss: 0.759655]\n",
      "[Epoch 141/300] [Batch 13/32] [D loss: 0.702567] [G loss: 0.494876]\n",
      "[Epoch 142/300] [Batch 6/32] [D loss: 0.645147] [G loss: 0.808677]\n",
      "[Epoch 142/300] [Batch 31/32] [D loss: 0.699726] [G loss: 0.514245]\n",
      "[Epoch 143/300] [Batch 24/32] [D loss: 0.663969] [G loss: 0.854310]\n",
      "[Epoch 144/300] [Batch 17/32] [D loss: 0.646542] [G loss: 0.595574]\n",
      "[Epoch 145/300] [Batch 10/32] [D loss: 0.632344] [G loss: 0.848671]\n",
      "[Epoch 146/300] [Batch 3/32] [D loss: 0.657947] [G loss: 1.147919]\n",
      "[Epoch 146/300] [Batch 28/32] [D loss: 0.696140] [G loss: 0.493757]\n",
      "[Epoch 147/300] [Batch 21/32] [D loss: 0.682308] [G loss: 0.502678]\n",
      "[Epoch 148/300] [Batch 14/32] [D loss: 0.665487] [G loss: 0.757727]\n",
      "[Epoch 149/300] [Batch 7/32] [D loss: 0.646502] [G loss: 0.776456]\n",
      "[Epoch 150/300] [Batch 0/32] [D loss: 0.681025] [G loss: 0.591541]\n",
      "[Epoch 150/300] [Batch 25/32] [D loss: 0.791295] [G loss: 0.396101]\n",
      "[Epoch 151/300] [Batch 18/32] [D loss: 0.674817] [G loss: 0.557150]\n",
      "[Epoch 152/300] [Batch 11/32] [D loss: 0.665028] [G loss: 0.802268]\n",
      "[Epoch 153/300] [Batch 4/32] [D loss: 0.596418] [G loss: 0.931989]\n",
      "[Epoch 153/300] [Batch 29/32] [D loss: 0.629743] [G loss: 0.803359]\n",
      "[Epoch 154/300] [Batch 22/32] [D loss: 0.621590] [G loss: 0.687894]\n",
      "[Epoch 155/300] [Batch 15/32] [D loss: 0.662091] [G loss: 0.764221]\n",
      "[Epoch 156/300] [Batch 8/32] [D loss: 0.611470] [G loss: 0.830530]\n",
      "[Epoch 157/300] [Batch 1/32] [D loss: 0.664077] [G loss: 0.676578]\n",
      "[Epoch 157/300] [Batch 26/32] [D loss: 0.676697] [G loss: 1.071087]\n",
      "[Epoch 158/300] [Batch 19/32] [D loss: 0.577303] [G loss: 1.071338]\n",
      "[Epoch 159/300] [Batch 12/32] [D loss: 0.654256] [G loss: 0.550140]\n",
      "[Epoch 160/300] [Batch 5/32] [D loss: 0.635405] [G loss: 0.966708]\n",
      "[Epoch 160/300] [Batch 30/32] [D loss: 0.682719] [G loss: 0.730494]\n",
      "[Epoch 161/300] [Batch 23/32] [D loss: 0.626888] [G loss: 0.770002]\n",
      "[Epoch 162/300] [Batch 16/32] [D loss: 0.611180] [G loss: 0.797761]\n",
      "[Epoch 163/300] [Batch 9/32] [D loss: 0.637864] [G loss: 0.698182]\n",
      "[Epoch 164/300] [Batch 2/32] [D loss: 0.646078] [G loss: 0.610249]\n",
      "[Epoch 164/300] [Batch 27/32] [D loss: 0.625040] [G loss: 0.961307]\n",
      "[Epoch 165/300] [Batch 20/32] [D loss: 0.684182] [G loss: 0.591068]\n",
      "[Epoch 166/300] [Batch 13/32] [D loss: 0.652020] [G loss: 0.588874]\n",
      "[Epoch 167/300] [Batch 6/32] [D loss: 0.634722] [G loss: 0.670887]\n",
      "[Epoch 167/300] [Batch 31/32] [D loss: 0.660166] [G loss: 0.913115]\n",
      "[Epoch 168/300] [Batch 24/32] [D loss: 0.647193] [G loss: 0.746640]\n",
      "[Epoch 169/300] [Batch 17/32] [D loss: 0.580041] [G loss: 0.948953]\n",
      "[Epoch 170/300] [Batch 10/32] [D loss: 0.640533] [G loss: 0.804227]\n",
      "[Epoch 171/300] [Batch 3/32] [D loss: 0.637774] [G loss: 0.771939]\n",
      "[Epoch 171/300] [Batch 28/32] [D loss: 0.605078] [G loss: 0.837103]\n",
      "[Epoch 172/300] [Batch 21/32] [D loss: 0.645580] [G loss: 0.762029]\n",
      "[Epoch 173/300] [Batch 14/32] [D loss: 0.703376] [G loss: 0.538419]\n",
      "[Epoch 174/300] [Batch 7/32] [D loss: 0.666526] [G loss: 1.117306]\n",
      "[Epoch 175/300] [Batch 0/32] [D loss: 0.649948] [G loss: 0.577359]\n",
      "[Epoch 175/300] [Batch 25/32] [D loss: 0.649166] [G loss: 0.688913]\n",
      "[Epoch 176/300] [Batch 18/32] [D loss: 0.606278] [G loss: 0.785211]\n",
      "[Epoch 177/300] [Batch 11/32] [D loss: 0.634947] [G loss: 0.651998]\n",
      "[Epoch 178/300] [Batch 4/32] [D loss: 0.648977] [G loss: 0.834969]\n",
      "[Epoch 178/300] [Batch 29/32] [D loss: 0.637343] [G loss: 0.623728]\n",
      "[Epoch 179/300] [Batch 22/32] [D loss: 0.657230] [G loss: 0.646833]\n",
      "[Epoch 180/300] [Batch 15/32] [D loss: 0.620253] [G loss: 0.685407]\n",
      "[Epoch 181/300] [Batch 8/32] [D loss: 0.684281] [G loss: 0.702678]\n",
      "[Epoch 182/300] [Batch 1/32] [D loss: 0.711054] [G loss: 1.386301]\n",
      "[Epoch 182/300] [Batch 26/32] [D loss: 0.656203] [G loss: 0.826867]\n",
      "[Epoch 183/300] [Batch 19/32] [D loss: 0.571968] [G loss: 0.964653]\n",
      "[Epoch 184/300] [Batch 12/32] [D loss: 0.647803] [G loss: 0.803809]\n",
      "[Epoch 185/300] [Batch 5/32] [D loss: 0.607704] [G loss: 1.018105]\n",
      "[Epoch 185/300] [Batch 30/32] [D loss: 0.643120] [G loss: 0.763662]\n",
      "[Epoch 186/300] [Batch 23/32] [D loss: 0.706259] [G loss: 1.295107]\n",
      "[Epoch 187/300] [Batch 16/32] [D loss: 0.615977] [G loss: 0.832486]\n",
      "[Epoch 188/300] [Batch 9/32] [D loss: 0.614404] [G loss: 0.697620]\n",
      "[Epoch 189/300] [Batch 2/32] [D loss: 0.610825] [G loss: 0.970567]\n",
      "[Epoch 189/300] [Batch 27/32] [D loss: 0.618526] [G loss: 0.929733]\n",
      "[Epoch 190/300] [Batch 20/32] [D loss: 0.737901] [G loss: 0.415341]\n",
      "[Epoch 191/300] [Batch 13/32] [D loss: 0.620546] [G loss: 0.745226]\n",
      "[Epoch 192/300] [Batch 6/32] [D loss: 0.630967] [G loss: 0.686574]\n"
     ]
    },
    {
     "name": "stdout",
     "output_type": "stream",
     "text": [
      "[Epoch 192/300] [Batch 31/32] [D loss: 0.660802] [G loss: 0.637265]\n",
      "[Epoch 193/300] [Batch 24/32] [D loss: 0.617123] [G loss: 0.853389]\n",
      "[Epoch 194/300] [Batch 17/32] [D loss: 0.650112] [G loss: 0.800350]\n",
      "[Epoch 195/300] [Batch 10/32] [D loss: 0.658534] [G loss: 0.958015]\n",
      "[Epoch 196/300] [Batch 3/32] [D loss: 0.651208] [G loss: 1.114297]\n",
      "[Epoch 196/300] [Batch 28/32] [D loss: 0.637610] [G loss: 0.743661]\n",
      "[Epoch 197/300] [Batch 21/32] [D loss: 0.636991] [G loss: 0.553497]\n",
      "[Epoch 198/300] [Batch 14/32] [D loss: 0.632580] [G loss: 0.631986]\n",
      "[Epoch 199/300] [Batch 7/32] [D loss: 0.628664] [G loss: 0.993898]\n",
      "[Epoch 200/300] [Batch 0/32] [D loss: 0.651891] [G loss: 0.585316]\n",
      "[Epoch 200/300] [Batch 25/32] [D loss: 0.664968] [G loss: 1.317990]\n",
      "[Epoch 201/300] [Batch 18/32] [D loss: 0.641434] [G loss: 0.668075]\n",
      "[Epoch 202/300] [Batch 11/32] [D loss: 0.556817] [G loss: 0.944412]\n",
      "[Epoch 203/300] [Batch 4/32] [D loss: 0.635824] [G loss: 0.935980]\n",
      "[Epoch 203/300] [Batch 29/32] [D loss: 0.635019] [G loss: 0.861758]\n",
      "[Epoch 204/300] [Batch 22/32] [D loss: 0.664498] [G loss: 0.537840]\n",
      "[Epoch 205/300] [Batch 15/32] [D loss: 0.604063] [G loss: 0.836587]\n",
      "[Epoch 206/300] [Batch 8/32] [D loss: 0.666699] [G loss: 0.861889]\n",
      "[Epoch 207/300] [Batch 1/32] [D loss: 0.613191] [G loss: 0.762687]\n",
      "[Epoch 207/300] [Batch 26/32] [D loss: 0.713561] [G loss: 0.445529]\n",
      "[Epoch 208/300] [Batch 19/32] [D loss: 0.632345] [G loss: 0.864719]\n",
      "[Epoch 209/300] [Batch 12/32] [D loss: 0.707088] [G loss: 0.509991]\n",
      "[Epoch 210/300] [Batch 5/32] [D loss: 0.671447] [G loss: 0.660135]\n",
      "[Epoch 210/300] [Batch 30/32] [D loss: 0.601102] [G loss: 0.746084]\n",
      "[Epoch 211/300] [Batch 23/32] [D loss: 0.617578] [G loss: 0.896657]\n",
      "[Epoch 212/300] [Batch 16/32] [D loss: 0.654059] [G loss: 1.000660]\n",
      "[Epoch 213/300] [Batch 9/32] [D loss: 0.617042] [G loss: 0.935553]\n",
      "[Epoch 214/300] [Batch 2/32] [D loss: 0.610147] [G loss: 1.013204]\n",
      "[Epoch 214/300] [Batch 27/32] [D loss: 0.648677] [G loss: 0.933271]\n",
      "[Epoch 215/300] [Batch 20/32] [D loss: 0.647630] [G loss: 0.739573]\n",
      "[Epoch 216/300] [Batch 13/32] [D loss: 0.679969] [G loss: 0.722173]\n",
      "[Epoch 217/300] [Batch 6/32] [D loss: 0.590226] [G loss: 0.786628]\n",
      "[Epoch 217/300] [Batch 31/32] [D loss: 0.654457] [G loss: 0.955053]\n",
      "[Epoch 218/300] [Batch 24/32] [D loss: 0.583288] [G loss: 0.679502]\n",
      "[Epoch 219/300] [Batch 17/32] [D loss: 0.672156] [G loss: 0.529342]\n",
      "[Epoch 220/300] [Batch 10/32] [D loss: 0.622887] [G loss: 0.962140]\n",
      "[Epoch 221/300] [Batch 3/32] [D loss: 0.592594] [G loss: 1.060395]\n",
      "[Epoch 221/300] [Batch 28/32] [D loss: 0.630234] [G loss: 1.126838]\n",
      "[Epoch 222/300] [Batch 21/32] [D loss: 0.607904] [G loss: 0.876692]\n",
      "[Epoch 223/300] [Batch 14/32] [D loss: 0.637982] [G loss: 0.837875]\n",
      "[Epoch 224/300] [Batch 7/32] [D loss: 0.645142] [G loss: 0.727365]\n",
      "[Epoch 225/300] [Batch 0/32] [D loss: 0.609104] [G loss: 0.878500]\n",
      "[Epoch 225/300] [Batch 25/32] [D loss: 0.660159] [G loss: 0.850068]\n",
      "[Epoch 226/300] [Batch 18/32] [D loss: 0.662492] [G loss: 0.977217]\n",
      "[Epoch 227/300] [Batch 11/32] [D loss: 0.686238] [G loss: 1.254253]\n",
      "[Epoch 228/300] [Batch 4/32] [D loss: 0.632280] [G loss: 0.800587]\n",
      "[Epoch 228/300] [Batch 29/32] [D loss: 0.693005] [G loss: 0.843323]\n",
      "[Epoch 229/300] [Batch 22/32] [D loss: 0.669993] [G loss: 0.616414]\n",
      "[Epoch 230/300] [Batch 15/32] [D loss: 0.634662] [G loss: 0.725364]\n",
      "[Epoch 231/300] [Batch 8/32] [D loss: 0.654200] [G loss: 0.982363]\n",
      "[Epoch 232/300] [Batch 1/32] [D loss: 0.635451] [G loss: 0.676729]\n",
      "[Epoch 232/300] [Batch 26/32] [D loss: 0.634964] [G loss: 0.729508]\n",
      "[Epoch 233/300] [Batch 19/32] [D loss: 0.689059] [G loss: 1.335590]\n",
      "[Epoch 234/300] [Batch 12/32] [D loss: 0.693045] [G loss: 0.516033]\n",
      "[Epoch 235/300] [Batch 5/32] [D loss: 0.589774] [G loss: 0.720801]\n",
      "[Epoch 235/300] [Batch 30/32] [D loss: 0.650882] [G loss: 0.930138]\n",
      "[Epoch 236/300] [Batch 23/32] [D loss: 0.671077] [G loss: 0.880252]\n",
      "[Epoch 237/300] [Batch 16/32] [D loss: 0.586859] [G loss: 0.781555]\n",
      "[Epoch 238/300] [Batch 9/32] [D loss: 0.682351] [G loss: 1.072835]\n",
      "[Epoch 239/300] [Batch 2/32] [D loss: 0.601908] [G loss: 0.827374]\n",
      "[Epoch 239/300] [Batch 27/32] [D loss: 0.604312] [G loss: 1.183448]\n",
      "[Epoch 240/300] [Batch 20/32] [D loss: 0.714796] [G loss: 0.505141]\n",
      "[Epoch 241/300] [Batch 13/32] [D loss: 0.669684] [G loss: 0.867909]\n",
      "[Epoch 242/300] [Batch 6/32] [D loss: 0.602180] [G loss: 0.871335]\n",
      "[Epoch 242/300] [Batch 31/32] [D loss: 0.570519] [G loss: 0.735988]\n",
      "[Epoch 243/300] [Batch 24/32] [D loss: 0.697714] [G loss: 0.521478]\n",
      "[Epoch 244/300] [Batch 17/32] [D loss: 0.651035] [G loss: 0.631575]\n",
      "[Epoch 245/300] [Batch 10/32] [D loss: 0.609274] [G loss: 0.688752]\n",
      "[Epoch 246/300] [Batch 3/32] [D loss: 0.684162] [G loss: 1.040972]\n",
      "[Epoch 246/300] [Batch 28/32] [D loss: 0.617548] [G loss: 0.671838]\n",
      "[Epoch 247/300] [Batch 21/32] [D loss: 0.571774] [G loss: 1.330703]\n",
      "[Epoch 248/300] [Batch 14/32] [D loss: 0.619678] [G loss: 0.711391]\n",
      "[Epoch 249/300] [Batch 7/32] [D loss: 0.609869] [G loss: 0.852816]\n",
      "[Epoch 250/300] [Batch 0/32] [D loss: 0.632988] [G loss: 0.823583]\n",
      "[Epoch 250/300] [Batch 25/32] [D loss: 0.679310] [G loss: 0.518064]\n",
      "[Epoch 251/300] [Batch 18/32] [D loss: 0.547714] [G loss: 1.237594]\n",
      "[Epoch 252/300] [Batch 11/32] [D loss: 0.654956] [G loss: 1.046808]\n",
      "[Epoch 253/300] [Batch 4/32] [D loss: 0.624720] [G loss: 0.937136]\n",
      "[Epoch 253/300] [Batch 29/32] [D loss: 0.660216] [G loss: 0.558894]\n",
      "[Epoch 254/300] [Batch 22/32] [D loss: 0.623065] [G loss: 0.769942]\n",
      "[Epoch 255/300] [Batch 15/32] [D loss: 0.666468] [G loss: 0.635776]\n",
      "[Epoch 256/300] [Batch 8/32] [D loss: 0.689617] [G loss: 0.552977]\n",
      "[Epoch 257/300] [Batch 1/32] [D loss: 0.608994] [G loss: 0.789012]\n",
      "[Epoch 257/300] [Batch 26/32] [D loss: 0.638794] [G loss: 0.590022]\n",
      "[Epoch 258/300] [Batch 19/32] [D loss: 0.649554] [G loss: 0.764768]\n",
      "[Epoch 259/300] [Batch 12/32] [D loss: 0.588041] [G loss: 0.808933]\n",
      "[Epoch 260/300] [Batch 5/32] [D loss: 0.677640] [G loss: 0.647979]\n",
      "[Epoch 260/300] [Batch 30/32] [D loss: 0.538330] [G loss: 1.075564]\n",
      "[Epoch 261/300] [Batch 23/32] [D loss: 0.653772] [G loss: 0.703941]\n",
      "[Epoch 262/300] [Batch 16/32] [D loss: 0.586998] [G loss: 0.895209]\n",
      "[Epoch 263/300] [Batch 9/32] [D loss: 0.656246] [G loss: 0.724585]\n",
      "[Epoch 264/300] [Batch 2/32] [D loss: 0.628976] [G loss: 0.540647]\n",
      "[Epoch 264/300] [Batch 27/32] [D loss: 0.596029] [G loss: 0.803290]\n",
      "[Epoch 265/300] [Batch 20/32] [D loss: 0.641550] [G loss: 0.548936]\n",
      "[Epoch 266/300] [Batch 13/32] [D loss: 0.643611] [G loss: 0.857891]\n",
      "[Epoch 267/300] [Batch 6/32] [D loss: 0.653929] [G loss: 1.083065]\n",
      "[Epoch 267/300] [Batch 31/32] [D loss: 0.683350] [G loss: 0.598919]\n",
      "[Epoch 268/300] [Batch 24/32] [D loss: 0.631672] [G loss: 0.627648]\n",
      "[Epoch 269/300] [Batch 17/32] [D loss: 0.653229] [G loss: 0.775674]\n",
      "[Epoch 270/300] [Batch 10/32] [D loss: 0.671771] [G loss: 0.577007]\n",
      "[Epoch 271/300] [Batch 3/32] [D loss: 0.662303] [G loss: 0.781633]\n",
      "[Epoch 271/300] [Batch 28/32] [D loss: 0.654325] [G loss: 0.640619]\n",
      "[Epoch 272/300] [Batch 21/32] [D loss: 0.746863] [G loss: 1.371760]\n",
      "[Epoch 273/300] [Batch 14/32] [D loss: 0.632847] [G loss: 0.628428]\n",
      "[Epoch 274/300] [Batch 7/32] [D loss: 0.627166] [G loss: 1.220632]\n",
      "[Epoch 275/300] [Batch 0/32] [D loss: 0.583326] [G loss: 0.776794]\n",
      "[Epoch 275/300] [Batch 25/32] [D loss: 0.615732] [G loss: 0.771712]\n",
      "[Epoch 276/300] [Batch 18/32] [D loss: 0.674613] [G loss: 1.176101]\n",
      "[Epoch 277/300] [Batch 11/32] [D loss: 0.552557] [G loss: 1.043991]\n",
      "[Epoch 278/300] [Batch 4/32] [D loss: 0.690032] [G loss: 0.631534]\n",
      "[Epoch 278/300] [Batch 29/32] [D loss: 0.704823] [G loss: 0.587878]\n",
      "[Epoch 279/300] [Batch 22/32] [D loss: 0.648579] [G loss: 1.188814]\n",
      "[Epoch 280/300] [Batch 15/32] [D loss: 0.616744] [G loss: 0.641379]\n",
      "[Epoch 281/300] [Batch 8/32] [D loss: 0.706762] [G loss: 0.463778]\n",
      "[Epoch 282/300] [Batch 1/32] [D loss: 0.675100] [G loss: 1.216335]\n",
      "[Epoch 282/300] [Batch 26/32] [D loss: 0.589731] [G loss: 0.971709]\n",
      "[Epoch 283/300] [Batch 19/32] [D loss: 0.598203] [G loss: 0.966989]\n",
      "[Epoch 284/300] [Batch 12/32] [D loss: 0.635594] [G loss: 0.768162]\n",
      "[Epoch 285/300] [Batch 5/32] [D loss: 0.650335] [G loss: 0.634257]\n",
      "[Epoch 285/300] [Batch 30/32] [D loss: 0.684660] [G loss: 1.179146]\n",
      "[Epoch 286/300] [Batch 23/32] [D loss: 0.637112] [G loss: 0.884316]\n",
      "[Epoch 287/300] [Batch 16/32] [D loss: 0.640976] [G loss: 1.013926]\n"
     ]
    },
    {
     "name": "stdout",
     "output_type": "stream",
     "text": [
      "[Epoch 288/300] [Batch 9/32] [D loss: 0.652874] [G loss: 1.047531]\n",
      "[Epoch 289/300] [Batch 2/32] [D loss: 0.592735] [G loss: 0.725097]\n",
      "[Epoch 289/300] [Batch 27/32] [D loss: 0.586779] [G loss: 0.718244]\n",
      "[Epoch 290/300] [Batch 20/32] [D loss: 0.620658] [G loss: 1.166460]\n",
      "[Epoch 291/300] [Batch 13/32] [D loss: 0.570289] [G loss: 0.842539]\n",
      "[Epoch 292/300] [Batch 6/32] [D loss: 0.594632] [G loss: 0.885082]\n",
      "[Epoch 292/300] [Batch 31/32] [D loss: 0.626507] [G loss: 1.057925]\n",
      "[Epoch 293/300] [Batch 24/32] [D loss: 0.608997] [G loss: 1.082591]\n",
      "[Epoch 294/300] [Batch 17/32] [D loss: 0.606666] [G loss: 1.204040]\n",
      "[Epoch 295/300] [Batch 10/32] [D loss: 0.616281] [G loss: 1.240759]\n",
      "[Epoch 296/300] [Batch 3/32] [D loss: 0.628199] [G loss: 0.999091]\n",
      "[Epoch 296/300] [Batch 28/32] [D loss: 0.583658] [G loss: 1.206838]\n",
      "[Epoch 297/300] [Batch 21/32] [D loss: 0.597184] [G loss: 1.082306]\n",
      "[Epoch 298/300] [Batch 14/32] [D loss: 0.708416] [G loss: 0.999459]\n",
      "[Epoch 299/300] [Batch 7/32] [D loss: 0.617373] [G loss: 1.178572]\n",
      "Wall time: 42.2 s\n"
     ]
    }
   ],
   "source": [
    "%%time\n",
    "red_patch = mpatches.Patch(color='red', label='D loss')\n",
    "green_patch = mpatches.Patch(color='green', label='G loss')\n",
    "\n",
    "\n",
    "\n",
    "for epoch in range(n_epochs):\n",
    "    for i, (coord, labels) in enumerate(real_data):\n",
    "\n",
    "        batch_size = coord.shape[0]\n",
    "##################### Лейблы для данных: 1 - настоящие, 0 - сгенерированные ########\n",
    "        valid = Variable(torch.FloatTensor(batch_size, 1).fill_(1.0), requires_grad=False).to(device)\n",
    "        fake = Variable(torch.FloatTensor(batch_size, 1).fill_(0.0), requires_grad=False).to(device)\n",
    "\n",
    "        real_coord = Variable(coord.type(torch.FloatTensor)).to(device)\n",
    "\n",
    "\n",
    "######################  Тренировка генератора    ##########################\n",
    "\n",
    "        optimizer_G.zero_grad()\n",
    "    \n",
    "        #генерация шума\n",
    "        z = Variable(torch.FloatTensor(np.random.normal(start_at, end_at, (batch_size, latent_dim)))).to(device)\n",
    "\n",
    "        gen_coord = generator(z)\n",
    "        xy_gen.append(gen_coord)\n",
    "\n",
    "        validity = discriminator(gen_coord)\n",
    "        g_loss = adversarial_loss(validity, valid)\n",
    "        \n",
    "        g_loss.backward()\n",
    "        optimizer_G.step()\n",
    "\n",
    "######################  Тренировка дискриминатора    ##########################\n",
    "\n",
    "        optimizer_D.zero_grad()\n",
    "\n",
    "        real_pred = discriminator(real_coord)\n",
    "        d_real_loss = adversarial_loss(real_pred, valid)\n",
    "\n",
    "        fake_pred = discriminator(gen_coord.detach())\n",
    "        d_fake_loss = adversarial_loss(fake_pred, fake)\n",
    "\n",
    "        d_loss = (d_real_loss + d_fake_loss) / 2\n",
    "\n",
    "        d_loss.backward()\n",
    "        optimizer_D.step()\n",
    "        \n",
    "######## Отображение процесса обучения и вывод функций потерь ############\n",
    "        batches_done = epoch * len(real_data) + i\n",
    "    \n",
    "        if batches_done % sample_interval == 0:\n",
    "#             plt.clf()\n",
    "            \n",
    "#             display.clear_output(wait=False)\n",
    "#             sample_image(gen_imgs)\n",
    "            print(\"[Epoch %d/%d] [Batch %d/%d] [D loss: %f] [G loss: %f]\"% (epoch, n_epochs, i, len(real_data), d_loss.item(), g_loss.item()) ) \n",
    "\n",
    "            \n",
    "#             display.display(plt.gcf())\n",
    "\n",
    "            d_loss_history.append(d_loss)\n",
    "            g_loss_history.append(g_loss)\n",
    "\n",
    "#             plt.plot(np.log(np.array(d_loss_history)), label='D loss', color = 'red')\n",
    "#             plt.plot(np.log(np.array(g_loss_history)), label='G loss', color = 'green')\n",
    "#             plt.legend(handles=[red_patch, green_patch])\n",
    "#             plt.show()\n",
    "\n",
    "            "
   ]
  },
  {
   "cell_type": "code",
   "execution_count": 214,
   "metadata": {},
   "outputs": [
    {
     "data": {
      "image/png": "[encoded data removed]",
      "text/plain": [
       "<Figure size 432x288 with 1 Axes>"
      ]
     },
     "metadata": {
      "needs_background": "light"
     },
     "output_type": "display_data"
    }
   ],
   "source": [
    "plt.plot(np.log(np.array(d_loss_history)), label='D loss', color = 'red')\n",
    "plt.plot(np.log(np.array(g_loss_history)), label='G loss', color = 'green')\n",
    "plt.legend(handles=[red_patch, green_patch])\n",
    "plt.show()"
   ]
  },
  {
   "cell_type": "code",
   "execution_count": 215,
   "metadata": {},
   "outputs": [
    {
     "data": {
      "image/png": "[encoded data removed]",
      "text/plain": [
       "<Figure size 432x288 with 1 Axes>"
      ]
     },
     "metadata": {
      "needs_background": "light"
     },
     "output_type": "display_data"
    }
   ],
   "source": [
    "x_gen = []\n",
    "y_gen = []\n",
    "for i in range(-6, 0):\n",
    "    x_gen.extend(xy_gen[i][:, 0])\n",
    "    y_gen.extend(xy_gen[i][:, 1])\n",
    "\n",
    "gen_patch = mpatches.Patch(color='blue', label='Gen data')\n",
    "real_patch = mpatches.Patch(color='red', label='Real data')\n",
    "plt.plot(x_gen, y_gen, \".\", color = 'blue')\n",
    "plt.plot(x, y, \".\", color = 'red')\n",
    "plt.legend(handles=[gen_patch, real_patch])\n",
    "plt.show()"
   ]
  },
  {
   "cell_type": "markdown",
   "metadata": {},
   "source": [
    "2. Изменить используемые модели генератора и дискриминатора, с помощью сверточных слоев. Идея: https://arxiv.org/abs/1511.06434 Датасет можно использовать так же MNIST."
   ]
  },
  {
   "cell_type": "code",
   "execution_count": 218,
   "metadata": {},
   "outputs": [],
   "source": [
    "######## функция для вывода и сохранения изображения ########\n",
    "def sample_image(static_sample, save_img = False):\n",
    "    npimg = make_grid(static_sample.data[:25]).cpu().numpy()\n",
    "    fig, ax = plt.subplots(figsize=(7, 7))\n",
    "    ax.imshow(np.transpose(npimg, (1,2,0)), interpolation=\"nearest\")\n",
    "    if save_img:\n",
    "        save_image(gen_imgs.data[:25], \"images/%d.png\" % batches_done, nrow=5, normalize=True)"
   ]
  },
  {
   "cell_type": "markdown",
   "metadata": {},
   "source": [
    "Параметры для обучения обеих моделей"
   ]
  },
  {
   "cell_type": "code",
   "execution_count": 235,
   "metadata": {},
   "outputs": [],
   "source": [
    "n_epochs = 15\n",
    "batch_size = 64\n",
    "lr = 0.0002\n",
    "\n",
    "b1 = 0.5\n",
    "b2 = 0.999\n",
    "\n",
    "latent_dim = 100\n",
    "\n",
    "n_classes = 10\n",
    "img_size = 28\n",
    "channels = 1\n",
    "\n",
    "sample_interval = 25\n",
    "\n",
    "img_shape = (channels, img_size, img_size)"
   ]
  },
  {
   "cell_type": "markdown",
   "metadata": {},
   "source": [
    "Генератор"
   ]
  },
  {
   "cell_type": "code",
   "execution_count": 236,
   "metadata": {},
   "outputs": [],
   "source": [
    "class Generator(nn.Module):\n",
    "    def __init__(self):\n",
    "        super().__init__()\n",
    "        \n",
    "        def block(in_feat, out_feat, normalize=True): #activation='relu\n",
    "            layers = [nn.Linear(in_feat, out_feat)]\n",
    "            if normalize:\n",
    "                layers.append(nn.BatchNorm1d(out_feat, 0.8))\n",
    "            layers.append(nn.LeakyReLU(0.2, inplace=True))\n",
    "            return layers\n",
    "\n",
    "        self.model = nn.Sequential(\n",
    "            *block(latent_dim, 128, normalize=False),\n",
    "            *block(128, 256),\n",
    "            *block(256, 512),\n",
    "            *block(512, 1024),\n",
    "            nn.Linear(1024, int(np.prod(img_shape))),\n",
    "            nn.Tanh()\n",
    "        )\n",
    "#         self.activations = nn.ModuleDict([\n",
    "#                 ['lrelu', nn.LeakyReLU()],\n",
    "#                 ['relu', nn.ReLU()]])\n",
    "\n",
    "    def forward(self, z):\n",
    "        img = self.model(z)\n",
    "        img = img.view(img.size(0), *img_shape)\n",
    "        return img"
   ]
  },
  {
   "cell_type": "markdown",
   "metadata": {},
   "source": [
    "#### ... Небольшое отступление \n",
    "Создание своих слоев"
   ]
  },
  {
   "cell_type": "code",
   "execution_count": 238,
   "metadata": {},
   "outputs": [],
   "source": [
    "class CustomLinearLayer(nn.Module):\n",
    "    def __init__(self, size_in, size_out):\n",
    "        super().__init__()\n",
    "        self.size_in, self.size_out = size_in, size_out\n",
    "        \n",
    "        weights = torch.Tensor(size_out, size_in)\n",
    "        self.weights = nn.Parameter(weights) \n",
    "\n",
    "        bias = torch.Tensor(size_out)\n",
    "        self.bias = nn.Parameter(bias)\n",
    "\n",
    "        nn.init.uniform_(self.weights, -0.005, 0.005) \n",
    "        nn.init.uniform_(self.bias, -0.005, 0.005)  \n",
    "\n",
    "    def forward(self, x):\n",
    "        w_times_x = torch.mm(x, self.weights.t())\n",
    "        return torch.add(w_times_x, self.bias)  "
   ]
  },
  {
   "cell_type": "markdown",
   "metadata": {},
   "source": [
    "#### nn.init\n",
    "https://pytorch.org/docs/stable/nn.init.html"
   ]
  },
  {
   "cell_type": "markdown",
   "metadata": {},
   "source": [
    "Дискриминатор "
   ]
  },
  {
   "cell_type": "code",
   "execution_count": 239,
   "metadata": {},
   "outputs": [],
   "source": [
    "class Discriminator(nn.Module):\n",
    "    def __init__(self):\n",
    "        super().__init__()\n",
    "\n",
    "        self.model = nn.Sequential(\n",
    "            CustomLinearLayer(int(np.prod(img_shape)), 512),\n",
    "            nn.LeakyReLU(0.2, inplace=True),\n",
    "            CustomLinearLayer(512, 256),\n",
    "            nn.LeakyReLU(0.2, inplace=True),\n",
    "            CustomLinearLayer(256, 1),\n",
    "            nn.Sigmoid(),\n",
    "        )\n",
    "  \n",
    "\n",
    "    def forward(self, img):\n",
    "        img_flat = img.view(img.size(0), -1)\n",
    "        validity = self.model(img_flat)\n",
    "\n",
    "        return validity"
   ]
  },
  {
   "cell_type": "markdown",
   "metadata": {},
   "source": [
    "Загрузка датасета"
   ]
  },
  {
   "cell_type": "code",
   "execution_count": 240,
   "metadata": {},
   "outputs": [],
   "source": [
    "real_data = DataLoader(\n",
    "    datasets.MNIST(\n",
    "        \"../../data/mnist\",\n",
    "        train=True,\n",
    "        download=False,\n",
    "        transform=transforms.Compose(\n",
    "            [transforms.Resize(img_size), transforms.ToTensor(), transforms.Normalize([0.5], [0.5])]\n",
    "        ),\n",
    "    ),\n",
    "    batch_size=batch_size,\n",
    "    shuffle=True,\n",
    ")"
   ]
  },
  {
   "cell_type": "code",
   "execution_count": 241,
   "metadata": {
    "scrolled": true
   },
   "outputs": [
    {
     "data": {
      "text/plain": [
       "<matplotlib.image.AxesImage at 0x20229fb9f88>"
      ]
     },
     "execution_count": 241,
     "metadata": {},
     "output_type": "execute_result"
    },
    {
     "data": {
      "image/png": "[encoded data removed]",
      "text/plain": [
       "<Figure size 864x288 with 3 Axes>"
      ]
     },
     "metadata": {
      "needs_background": "light"
     },
     "output_type": "display_data"
    }
   ],
   "source": [
    "dataiter = iter(real_data)\n",
    "images, labels = dataiter.next()\n",
    "images = images.numpy()\n",
    "\n",
    "img = np.squeeze(images[0])\n",
    "img1 = np.squeeze(images[1])\n",
    "img2 = np.squeeze(images[2])\n",
    "\n",
    "fig, (ax1, ax2, ax3) = plt.subplots(1, 3, figsize = (12,4))\n",
    "ax1.imshow(img, cmap='gray')\n",
    "ax2.imshow(img1, cmap='gray')\n",
    "ax3.imshow(img2, cmap='gray')"
   ]
  },
  {
   "cell_type": "markdown",
   "metadata": {},
   "source": [
    "Инициализация"
   ]
  },
  {
   "cell_type": "code",
   "execution_count": 242,
   "metadata": {},
   "outputs": [],
   "source": [
    "generator = Generator().to(device)\n",
    "discriminator = Discriminator().to(device)\n",
    "\n",
    "\n",
    "optimizer_G = torch.optim.Adam(generator.parameters(), lr=lr, betas=(b1, b2))\n",
    "optimizer_D = torch.optim.Adam(discriminator.parameters(), lr=lr, betas=(b1, b2))\n",
    "\n",
    "adversarial_loss = torch.nn.BCELoss()"
   ]
  },
  {
   "cell_type": "code",
   "execution_count": 243,
   "metadata": {},
   "outputs": [],
   "source": [
    "d_loss_history = []\n",
    "g_loss_history = []"
   ]
  },
  {
   "cell_type": "code",
   "execution_count": 244,
   "metadata": {},
   "outputs": [
    {
     "data": {
      "text/plain": [
       "938"
      ]
     },
     "execution_count": 244,
     "metadata": {},
     "output_type": "execute_result"
    }
   ],
   "source": [
    "len(real_data)"
   ]
  },
  {
   "cell_type": "code",
   "execution_count": 245,
   "metadata": {
    "scrolled": true
   },
   "outputs": [
    {
     "name": "stdout",
     "output_type": "stream",
     "text": [
      "Wall time: 13min 59s\n"
     ]
    }
   ],
   "source": [
    "%%time\n",
    "red_patch = mpatches.Patch(color='red', label='D loss')\n",
    "green_patch = mpatches.Patch(color='green', label='G loss')\n",
    "\n",
    "\n",
    "\n",
    "for epoch in range(n_epochs):\n",
    "    for i, (imgs, labels) in enumerate(real_data):\n",
    "\n",
    "        batch_size = imgs.shape[0]\n",
    "##################### Лейблы для данных: 1 - настоящие, 0 - сгенерированные ########\n",
    "        valid = Variable(torch.FloatTensor(batch_size, 1).fill_(1.0), requires_grad=False).to(device)\n",
    "        fake = Variable(torch.FloatTensor(batch_size, 1).fill_(0.0), requires_grad=False).to(device)\n",
    "\n",
    "        real_imgs = Variable(imgs.type(torch.FloatTensor)).to(device)\n",
    "\n",
    "\n",
    "######################  Тренировка генератора    ##########################\n",
    "\n",
    "        optimizer_G.zero_grad()\n",
    "    \n",
    "        #генерация шума\n",
    "        z = Variable(torch.FloatTensor(np.random.normal(0, 1, (batch_size, latent_dim)))).to(device)\n",
    "\n",
    "        gen_imgs = generator(z)\n",
    "\n",
    "        validity = discriminator(gen_imgs)\n",
    "        g_loss = adversarial_loss(validity, valid)\n",
    "        \n",
    "        g_loss.backward()\n",
    "        optimizer_G.step()\n",
    "\n",
    "######################  Тренировка дискриминатора    ##########################\n",
    "\n",
    "        optimizer_D.zero_grad()\n",
    "\n",
    "        real_pred = discriminator(real_imgs)\n",
    "        d_real_loss = adversarial_loss(real_pred, valid)\n",
    "\n",
    "        fake_pred = discriminator(gen_imgs.detach())\n",
    "        d_fake_loss = adversarial_loss(fake_pred, fake)\n",
    "\n",
    "        d_loss = (d_real_loss + d_fake_loss) / 2\n",
    "\n",
    "        d_loss.backward()\n",
    "        optimizer_D.step()\n",
    "        \n",
    "######## Отображение процесса обучения и вывод функций потерь ############\n",
    "        batches_done = epoch * len(real_data) + i\n",
    "    \n",
    "        if batches_done % sample_interval == 0:\n",
    "#             plt.clf()\n",
    "            \n",
    "#             display.clear_output(wait=False)\n",
    "#             sample_image(gen_imgs)\n",
    "#             print(\"[Epoch %d/%d] [Batch %d/%d] [D loss: %f] [G loss: %f]\"% (epoch, n_epochs, i, len(real_data), d_loss.item(), g_loss.item()) ) \n",
    "\n",
    "            \n",
    "#             display.display(plt.gcf())\n",
    "\n",
    "            d_loss_history.append(d_loss)\n",
    "            g_loss_history.append(g_loss)\n",
    "\n",
    "#             plt.plot(np.log(np.array(d_loss_history)), label='D loss', color = 'red')\n",
    "#             plt.plot(np.log(np.array(g_loss_history)), label='G loss', color = 'green')\n",
    "#             plt.legend(handles=[red_patch, green_patch])\n",
    "#             plt.show()\n",
    "\n",
    "            "
   ]
  },
  {
   "cell_type": "code",
   "execution_count": 246,
   "metadata": {},
   "outputs": [
    {
     "data": {
      "image/png": "[encoded data removed]",
      "text/plain": [
       "<Figure size 432x288 with 1 Axes>"
      ]
     },
     "metadata": {
      "needs_background": "light"
     },
     "output_type": "display_data"
    }
   ],
   "source": [
    "plt.plot(np.log(np.array(d_loss_history)), label='D loss', color = 'red')\n",
    "plt.plot(np.log(np.array(g_loss_history)), label='G loss', color = 'green')\n",
    "plt.legend(handles=[red_patch, green_patch])\n",
    "plt.show()"
   ]
  },
  {
   "cell_type": "code",
   "execution_count": 259,
   "metadata": {},
   "outputs": [
    {
     "name": "stdout",
     "output_type": "stream",
     "text": [
      "last loss discriminator\n",
      "tensor(0.5719, grad_fn=<DivBackward0>)\n",
      "tensor(0.5225, grad_fn=<DivBackward0>)\n",
      "tensor(0.3515, grad_fn=<DivBackward0>)\n",
      "tensor(0.6528, grad_fn=<DivBackward0>)\n",
      "tensor(0.3825, grad_fn=<DivBackward0>)\n",
      "last loss generator\n",
      "tensor(3.1883, grad_fn=<BinaryCrossEntropyBackward>)\n",
      "tensor(0.8708, grad_fn=<BinaryCrossEntropyBackward>)\n",
      "tensor(2.9928, grad_fn=<BinaryCrossEntropyBackward>)\n",
      "tensor(3.5917, grad_fn=<BinaryCrossEntropyBackward>)\n",
      "tensor(1.3777, grad_fn=<BinaryCrossEntropyBackward>)\n"
     ]
    }
   ],
   "source": [
    "print('last loss discriminator')\n",
    "for i in range(-5, 0):\n",
    "    print(d_loss_history[i])\n",
    "print('last loss generator')\n",
    "for i in range(-5, 0):\n",
    "    print(g_loss_history[i])"
   ]
  },
  {
   "cell_type": "markdown",
   "metadata": {},
   "source": [
    "### Реализация со сверточными слоями:"
   ]
  },
  {
   "cell_type": "code",
   "execution_count": 266,
   "metadata": {},
   "outputs": [],
   "source": [
    "n_epochs = 5\n",
    "batch_size = 64\n",
    "lr = 0.0002\n",
    "\n",
    "b1 = 0.5\n",
    "b2 = 0.999\n",
    "\n",
    "latent_dim = 100\n",
    "\n",
    "n_classes = 10\n",
    "img_size = 28\n",
    "channels = 1\n",
    "\n",
    "sample_interval = 25\n",
    "\n",
    "img_shape = (channels, img_size, img_size)"
   ]
  },
  {
   "cell_type": "code",
   "execution_count": 285,
   "metadata": {},
   "outputs": [
    {
     "data": {
      "text/plain": [
       "100"
      ]
     },
     "execution_count": 285,
     "metadata": {},
     "output_type": "execute_result"
    }
   ],
   "source": [
    "latent_dim"
   ]
  },
  {
   "cell_type": "code",
   "execution_count": 317,
   "metadata": {},
   "outputs": [],
   "source": [
    "class Generator(nn.Module):\n",
    "    def __init__(self):\n",
    "        super().__init__()\n",
    "\n",
    "        self.model = nn.Sequential(\n",
    "\n",
    "        nn.ConvTranspose2d(latent_dim, 1024, kernel_size=4, stride=1, padding=0, bias=False),\n",
    "        nn.BatchNorm2d(1024),\n",
    "        nn.ReLU(True),\n",
    "\n",
    "        nn.ConvTranspose2d(1024, 512, kernel_size=4, stride=1, padding=1, bias=False),\n",
    "        nn.BatchNorm2d(512),\n",
    "        nn.ReLU(True),\n",
    "\n",
    "        nn.ConvTranspose2d(512, 264, kernel_size=4, stride=1, padding=1, bias=False),\n",
    "        nn.BatchNorm2d(264),\n",
    "        nn.ReLU(True),\n",
    "\n",
    "        nn.ConvTranspose2d(264, 128, kernel_size=4, stride=1, padding=1, bias=False),\n",
    "        nn.BatchNorm2d(128),\n",
    "        nn.ReLU(True),\n",
    "\n",
    "        nn.ConvTranspose2d(128, 64, kernel_size=4, stride=1, padding=1, bias=False),\n",
    "        nn.BatchNorm2d(64),\n",
    "        nn.ReLU(True),\n",
    "\n",
    "        nn.ConvTranspose2d(64, 1, kernel_size=4, stride=1, padding=1, bias=False),\n",
    "        nn.Tanh()\n",
    "    )\n",
    "\n",
    "    def forward(self, z):\n",
    "        img = self.model(z)\n",
    "#         img = img.view(img.size(0), *img_shape)\n",
    "        return img"
   ]
  },
  {
   "cell_type": "code",
   "execution_count": 318,
   "metadata": {},
   "outputs": [],
   "source": [
    "class Discriminator(nn.Module):\n",
    "    def __init__(self):\n",
    "        super().__init__()\n",
    "\n",
    "        self.model = nn.Sequential(\n",
    "            nn.ConvTranspose2d(int(np.prod(img_shape)), 512, kernel_size=4, stride=1, padding=1, bias=False),\n",
    "            nn.LeakyReLU(0.2, inplace=True),\n",
    "            nn.ConvTranspose2d(512, 256, kernel_size=4, stride=1, padding=1, bias=False),\n",
    "            nn.LeakyReLU(0.2, inplace=True),\n",
    "            nn.ConvTranspose2d(256, 1, kernel_size=4, stride=1, padding=0, bias=False),\n",
    "            nn.LeakyReLU(0.2, inplace=True),\n",
    "            nn.Sigmoid()\n",
    "        )\n",
    "  \n",
    "    def forward(self, img):\n",
    "#         img = img.view(img.size(0), -1)\n",
    "        validity = self.model(img)\n",
    "\n",
    "        return validity"
   ]
  },
  {
   "cell_type": "code",
   "execution_count": 319,
   "metadata": {},
   "outputs": [],
   "source": [
    "generator = Generator().to(device)\n",
    "discriminator = Discriminator().to(device)\n",
    "\n",
    "\n",
    "optimizer_G = torch.optim.Adam(generator.parameters(), lr=lr, betas=(b1, b2))\n",
    "optimizer_D = torch.optim.Adam(discriminator.parameters(), lr=lr, betas=(b1, b2))\n",
    "\n",
    "adversarial_loss = torch.nn.BCELoss()"
   ]
  },
  {
   "cell_type": "code",
   "execution_count": 320,
   "metadata": {},
   "outputs": [],
   "source": [
    "d_loss_history = []\n",
    "g_loss_history = []"
   ]
  },
  {
   "cell_type": "code",
   "execution_count": 315,
   "metadata": {},
   "outputs": [
    {
     "data": {
      "text/plain": [
       "938"
      ]
     },
     "execution_count": 315,
     "metadata": {},
     "output_type": "execute_result"
    }
   ],
   "source": [
    "len(real_data)"
   ]
  },
  {
   "cell_type": "code",
   "execution_count": 307,
   "metadata": {},
   "outputs": [
    {
     "name": "stdout",
     "output_type": "stream",
     "text": [
      "0 torch.Size([64, 1, 28, 28]) torch.Size([64])\n",
      "600 torch.Size([64, 1, 28, 28]) torch.Size([64])\n"
     ]
    }
   ],
   "source": [
    "for i, (imgs, labels) in enumerate(real_data):\n",
    "    if i%600==0:\n",
    "        print(i, imgs.size(), labels.size())\n",
    "        a = imgs"
   ]
  },
  {
   "cell_type": "code",
   "execution_count": 308,
   "metadata": {},
   "outputs": [
    {
     "data": {
      "text/plain": [
       "torch.Size([64, 1, 28, 28])"
      ]
     },
     "execution_count": 308,
     "metadata": {},
     "output_type": "execute_result"
    }
   ],
   "source": [
    "a.size()"
   ]
  },
  {
   "cell_type": "code",
   "execution_count": 309,
   "metadata": {},
   "outputs": [
    {
     "data": {
      "text/plain": [
       "torch.Size([64, 1, 28, 28])"
      ]
     },
     "execution_count": 309,
     "metadata": {},
     "output_type": "execute_result"
    }
   ],
   "source": [
    "b = Variable(a.type(torch.FloatTensor)).to(device)\n",
    "b.size()"
   ]
  },
  {
   "cell_type": "code",
   "execution_count": 321,
   "metadata": {
    "scrolled": true
   },
   "outputs": [
    {
     "ename": "RuntimeError",
     "evalue": "Given transposed=1, weight of size [784, 512, 4, 4], expected input[64, 1, 9, 9] to have 784 channels, but got 1 channels instead",
     "output_type": "error",
     "traceback": [
      "\u001b[1;31m---------------------------------------------------------------------------\u001b[0m",
      "\u001b[1;31mRuntimeError\u001b[0m                              Traceback (most recent call last)",
      "\u001b[1;32m<timed exec>\u001b[0m in \u001b[0;36m<module>\u001b[1;34m\u001b[0m\n",
      "\u001b[1;32mC:\\Anaconda\\lib\\site-packages\\torch\\nn\\modules\\module.py\u001b[0m in \u001b[0;36m_call_impl\u001b[1;34m(self, *input, **kwargs)\u001b[0m\n\u001b[0;32m    720\u001b[0m             \u001b[0mresult\u001b[0m \u001b[1;33m=\u001b[0m \u001b[0mself\u001b[0m\u001b[1;33m.\u001b[0m\u001b[0m_slow_forward\u001b[0m\u001b[1;33m(\u001b[0m\u001b[1;33m*\u001b[0m\u001b[0minput\u001b[0m\u001b[1;33m,\u001b[0m \u001b[1;33m**\u001b[0m\u001b[0mkwargs\u001b[0m\u001b[1;33m)\u001b[0m\u001b[1;33m\u001b[0m\u001b[1;33m\u001b[0m\u001b[0m\n\u001b[0;32m    721\u001b[0m         \u001b[1;32melse\u001b[0m\u001b[1;33m:\u001b[0m\u001b[1;33m\u001b[0m\u001b[1;33m\u001b[0m\u001b[0m\n\u001b[1;32m--> 722\u001b[1;33m             \u001b[0mresult\u001b[0m \u001b[1;33m=\u001b[0m \u001b[0mself\u001b[0m\u001b[1;33m.\u001b[0m\u001b[0mforward\u001b[0m\u001b[1;33m(\u001b[0m\u001b[1;33m*\u001b[0m\u001b[0minput\u001b[0m\u001b[1;33m,\u001b[0m \u001b[1;33m**\u001b[0m\u001b[0mkwargs\u001b[0m\u001b[1;33m)\u001b[0m\u001b[1;33m\u001b[0m\u001b[1;33m\u001b[0m\u001b[0m\n\u001b[0m\u001b[0;32m    723\u001b[0m         for hook in itertools.chain(\n\u001b[0;32m    724\u001b[0m                 \u001b[0m_global_forward_hooks\u001b[0m\u001b[1;33m.\u001b[0m\u001b[0mvalues\u001b[0m\u001b[1;33m(\u001b[0m\u001b[1;33m)\u001b[0m\u001b[1;33m,\u001b[0m\u001b[1;33m\u001b[0m\u001b[1;33m\u001b[0m\u001b[0m\n",
      "\u001b[1;32m<ipython-input-318-27502ecd233a>\u001b[0m in \u001b[0;36mforward\u001b[1;34m(self, img)\u001b[0m\n\u001b[0;32m     15\u001b[0m     \u001b[1;32mdef\u001b[0m \u001b[0mforward\u001b[0m\u001b[1;33m(\u001b[0m\u001b[0mself\u001b[0m\u001b[1;33m,\u001b[0m \u001b[0mimg\u001b[0m\u001b[1;33m)\u001b[0m\u001b[1;33m:\u001b[0m\u001b[1;33m\u001b[0m\u001b[1;33m\u001b[0m\u001b[0m\n\u001b[0;32m     16\u001b[0m \u001b[1;31m#         img = img.view(img.size(0), -1)\u001b[0m\u001b[1;33m\u001b[0m\u001b[1;33m\u001b[0m\u001b[1;33m\u001b[0m\u001b[0m\n\u001b[1;32m---> 17\u001b[1;33m         \u001b[0mvalidity\u001b[0m \u001b[1;33m=\u001b[0m \u001b[0mself\u001b[0m\u001b[1;33m.\u001b[0m\u001b[0mmodel\u001b[0m\u001b[1;33m(\u001b[0m\u001b[0mimg\u001b[0m\u001b[1;33m)\u001b[0m\u001b[1;33m\u001b[0m\u001b[1;33m\u001b[0m\u001b[0m\n\u001b[0m\u001b[0;32m     18\u001b[0m \u001b[1;33m\u001b[0m\u001b[0m\n\u001b[0;32m     19\u001b[0m         \u001b[1;32mreturn\u001b[0m \u001b[0mvalidity\u001b[0m\u001b[1;33m\u001b[0m\u001b[1;33m\u001b[0m\u001b[0m\n",
      "\u001b[1;32mC:\\Anaconda\\lib\\site-packages\\torch\\nn\\modules\\module.py\u001b[0m in \u001b[0;36m_call_impl\u001b[1;34m(self, *input, **kwargs)\u001b[0m\n\u001b[0;32m    720\u001b[0m             \u001b[0mresult\u001b[0m \u001b[1;33m=\u001b[0m \u001b[0mself\u001b[0m\u001b[1;33m.\u001b[0m\u001b[0m_slow_forward\u001b[0m\u001b[1;33m(\u001b[0m\u001b[1;33m*\u001b[0m\u001b[0minput\u001b[0m\u001b[1;33m,\u001b[0m \u001b[1;33m**\u001b[0m\u001b[0mkwargs\u001b[0m\u001b[1;33m)\u001b[0m\u001b[1;33m\u001b[0m\u001b[1;33m\u001b[0m\u001b[0m\n\u001b[0;32m    721\u001b[0m         \u001b[1;32melse\u001b[0m\u001b[1;33m:\u001b[0m\u001b[1;33m\u001b[0m\u001b[1;33m\u001b[0m\u001b[0m\n\u001b[1;32m--> 722\u001b[1;33m             \u001b[0mresult\u001b[0m \u001b[1;33m=\u001b[0m \u001b[0mself\u001b[0m\u001b[1;33m.\u001b[0m\u001b[0mforward\u001b[0m\u001b[1;33m(\u001b[0m\u001b[1;33m*\u001b[0m\u001b[0minput\u001b[0m\u001b[1;33m,\u001b[0m \u001b[1;33m**\u001b[0m\u001b[0mkwargs\u001b[0m\u001b[1;33m)\u001b[0m\u001b[1;33m\u001b[0m\u001b[1;33m\u001b[0m\u001b[0m\n\u001b[0m\u001b[0;32m    723\u001b[0m         for hook in itertools.chain(\n\u001b[0;32m    724\u001b[0m                 \u001b[0m_global_forward_hooks\u001b[0m\u001b[1;33m.\u001b[0m\u001b[0mvalues\u001b[0m\u001b[1;33m(\u001b[0m\u001b[1;33m)\u001b[0m\u001b[1;33m,\u001b[0m\u001b[1;33m\u001b[0m\u001b[1;33m\u001b[0m\u001b[0m\n",
      "\u001b[1;32mC:\\Anaconda\\lib\\site-packages\\torch\\nn\\modules\\container.py\u001b[0m in \u001b[0;36mforward\u001b[1;34m(self, input)\u001b[0m\n\u001b[0;32m    115\u001b[0m     \u001b[1;32mdef\u001b[0m \u001b[0mforward\u001b[0m\u001b[1;33m(\u001b[0m\u001b[0mself\u001b[0m\u001b[1;33m,\u001b[0m \u001b[0minput\u001b[0m\u001b[1;33m)\u001b[0m\u001b[1;33m:\u001b[0m\u001b[1;33m\u001b[0m\u001b[1;33m\u001b[0m\u001b[0m\n\u001b[0;32m    116\u001b[0m         \u001b[1;32mfor\u001b[0m \u001b[0mmodule\u001b[0m \u001b[1;32min\u001b[0m \u001b[0mself\u001b[0m\u001b[1;33m:\u001b[0m\u001b[1;33m\u001b[0m\u001b[1;33m\u001b[0m\u001b[0m\n\u001b[1;32m--> 117\u001b[1;33m             \u001b[0minput\u001b[0m \u001b[1;33m=\u001b[0m \u001b[0mmodule\u001b[0m\u001b[1;33m(\u001b[0m\u001b[0minput\u001b[0m\u001b[1;33m)\u001b[0m\u001b[1;33m\u001b[0m\u001b[1;33m\u001b[0m\u001b[0m\n\u001b[0m\u001b[0;32m    118\u001b[0m         \u001b[1;32mreturn\u001b[0m \u001b[0minput\u001b[0m\u001b[1;33m\u001b[0m\u001b[1;33m\u001b[0m\u001b[0m\n\u001b[0;32m    119\u001b[0m \u001b[1;33m\u001b[0m\u001b[0m\n",
      "\u001b[1;32mC:\\Anaconda\\lib\\site-packages\\torch\\nn\\modules\\module.py\u001b[0m in \u001b[0;36m_call_impl\u001b[1;34m(self, *input, **kwargs)\u001b[0m\n\u001b[0;32m    720\u001b[0m             \u001b[0mresult\u001b[0m \u001b[1;33m=\u001b[0m \u001b[0mself\u001b[0m\u001b[1;33m.\u001b[0m\u001b[0m_slow_forward\u001b[0m\u001b[1;33m(\u001b[0m\u001b[1;33m*\u001b[0m\u001b[0minput\u001b[0m\u001b[1;33m,\u001b[0m \u001b[1;33m**\u001b[0m\u001b[0mkwargs\u001b[0m\u001b[1;33m)\u001b[0m\u001b[1;33m\u001b[0m\u001b[1;33m\u001b[0m\u001b[0m\n\u001b[0;32m    721\u001b[0m         \u001b[1;32melse\u001b[0m\u001b[1;33m:\u001b[0m\u001b[1;33m\u001b[0m\u001b[1;33m\u001b[0m\u001b[0m\n\u001b[1;32m--> 722\u001b[1;33m             \u001b[0mresult\u001b[0m \u001b[1;33m=\u001b[0m \u001b[0mself\u001b[0m\u001b[1;33m.\u001b[0m\u001b[0mforward\u001b[0m\u001b[1;33m(\u001b[0m\u001b[1;33m*\u001b[0m\u001b[0minput\u001b[0m\u001b[1;33m,\u001b[0m \u001b[1;33m**\u001b[0m\u001b[0mkwargs\u001b[0m\u001b[1;33m)\u001b[0m\u001b[1;33m\u001b[0m\u001b[1;33m\u001b[0m\u001b[0m\n\u001b[0m\u001b[0;32m    723\u001b[0m         for hook in itertools.chain(\n\u001b[0;32m    724\u001b[0m                 \u001b[0m_global_forward_hooks\u001b[0m\u001b[1;33m.\u001b[0m\u001b[0mvalues\u001b[0m\u001b[1;33m(\u001b[0m\u001b[1;33m)\u001b[0m\u001b[1;33m,\u001b[0m\u001b[1;33m\u001b[0m\u001b[1;33m\u001b[0m\u001b[0m\n",
      "\u001b[1;32mC:\\Anaconda\\lib\\site-packages\\torch\\nn\\modules\\conv.py\u001b[0m in \u001b[0;36mforward\u001b[1;34m(self, input, output_size)\u001b[0m\n\u001b[0;32m    905\u001b[0m         return F.conv_transpose2d(\n\u001b[0;32m    906\u001b[0m             \u001b[0minput\u001b[0m\u001b[1;33m,\u001b[0m \u001b[0mself\u001b[0m\u001b[1;33m.\u001b[0m\u001b[0mweight\u001b[0m\u001b[1;33m,\u001b[0m \u001b[0mself\u001b[0m\u001b[1;33m.\u001b[0m\u001b[0mbias\u001b[0m\u001b[1;33m,\u001b[0m \u001b[0mself\u001b[0m\u001b[1;33m.\u001b[0m\u001b[0mstride\u001b[0m\u001b[1;33m,\u001b[0m \u001b[0mself\u001b[0m\u001b[1;33m.\u001b[0m\u001b[0mpadding\u001b[0m\u001b[1;33m,\u001b[0m\u001b[1;33m\u001b[0m\u001b[1;33m\u001b[0m\u001b[0m\n\u001b[1;32m--> 907\u001b[1;33m             output_padding, self.groups, self.dilation)\n\u001b[0m\u001b[0;32m    908\u001b[0m \u001b[1;33m\u001b[0m\u001b[0m\n\u001b[0;32m    909\u001b[0m \u001b[1;33m\u001b[0m\u001b[0m\n",
      "\u001b[1;31mRuntimeError\u001b[0m: Given transposed=1, weight of size [784, 512, 4, 4], expected input[64, 1, 9, 9] to have 784 channels, but got 1 channels instead"
     ]
    }
   ],
   "source": [
    "%%time\n",
    "red_patch = mpatches.Patch(color='red', label='D loss')\n",
    "green_patch = mpatches.Patch(color='green', label='G loss')\n",
    "\n",
    "\n",
    "\n",
    "for epoch in range(n_epochs):\n",
    "    for i, (imgs, labels) in enumerate(real_data):\n",
    "\n",
    "        batch_size = imgs.shape[0]\n",
    "##################### Лейблы для данных: 1 - настоящие, 0 - сгенерированные ########\n",
    "        valid = Variable(torch.FloatTensor(batch_size, 1).fill_(1.0), requires_grad=False).to(device)\n",
    "        fake = Variable(torch.FloatTensor(batch_size, 1).fill_(0.0), requires_grad=False).to(device)\n",
    "\n",
    "        real_imgs = Variable(imgs.type(torch.FloatTensor)).to(device)\n",
    "\n",
    "\n",
    "######################  Тренировка генератора    ##########################\n",
    "\n",
    "        optimizer_G.zero_grad()\n",
    "    \n",
    "        #генерация шума\n",
    "#         z = Variable(torch.FloatTensor(np.random.normal(0, 1, (batch_size, 1, 4, 4)))).to(device)\n",
    "        z = torch.randn(batch_size, latent_dim, 1, 1, device=device)\n",
    "        gen_imgs = generator(z)\n",
    "\n",
    "        validity = discriminator(gen_imgs)\n",
    "        g_loss = adversarial_loss(validity, valid)\n",
    "        \n",
    "        g_loss.backward()\n",
    "        optimizer_G.step()\n",
    "\n",
    "######################  Тренировка дискриминатора    ##########################\n",
    "\n",
    "        optimizer_D.zero_grad()\n",
    "\n",
    "        real_pred = discriminator(real_imgs)\n",
    "        d_real_loss = adversarial_loss(real_pred, valid)\n",
    "\n",
    "        fake_pred = discriminator(gen_imgs.detach())\n",
    "        d_fake_loss = adversarial_loss(fake_pred, fake)\n",
    "\n",
    "        d_loss = (d_real_loss + d_fake_loss) / 2\n",
    "\n",
    "        d_loss.backward()\n",
    "        optimizer_D.step()\n",
    "        \n",
    "######## Отображение процесса обучения и вывод функций потерь ############\n",
    "        batches_done = epoch * len(real_data) + i\n",
    "    \n",
    "        if batches_done % sample_interval == 0:\n",
    "#             plt.clf()\n",
    "            \n",
    "#             display.clear_output(wait=False)\n",
    "#             sample_image(gen_imgs)\n",
    "#             print(\"[Epoch %d/%d] [Batch %d/%d] [D loss: %f] [G loss: %f]\"% (epoch, n_epochs, i, len(real_data), d_loss.item(), g_loss.item()) ) \n",
    "\n",
    "            \n",
    "#             display.display(plt.gcf())\n",
    "\n",
    "            d_loss_history.append(d_loss)\n",
    "            g_loss_history.append(g_loss)\n",
    "\n",
    "#             plt.plot(np.log(np.array(d_loss_history)), label='D loss', color = 'red')\n",
    "#             plt.plot(np.log(np.array(g_loss_history)), label='G loss', color = 'green')\n",
    "#             plt.legend(handles=[red_patch, green_patch])\n",
    "#             plt.show()\n",
    "\n",
    "            "
   ]
  },
  {
   "cell_type": "code",
   "execution_count": 246,
   "metadata": {},
   "outputs": [
    {
     "data": {
      "image/png": "[encoded data removed]",
      "text/plain": [
       "<Figure size 432x288 with 1 Axes>"
      ]
     },
     "metadata": {
      "needs_background": "light"
     },
     "output_type": "display_data"
    }
   ],
   "source": [
    "plt.plot(np.log(np.array(d_loss_history)), label='D loss', color = 'red')\n",
    "plt.plot(np.log(np.array(g_loss_history)), label='G loss', color = 'green')\n",
    "plt.legend(handles=[red_patch, green_patch])\n",
    "plt.show()"
   ]
  },
  {
   "cell_type": "markdown",
   "metadata": {},
   "source": [
    "https://medium.com/@jonathan_hui"
   ]
  }
 ],
 "metadata": {
  "kernelspec": {
   "display_name": "Python 3",
   "language": "python",
   "name": "python3"
  },
  "language_info": {
   "codemirror_mode": {
    "name": "ipython",
    "version": 3
   },
   "file_extension": ".py",
   "mimetype": "text/x-python",
   "name": "python",
   "nbconvert_exporter": "python",
   "pygments_lexer": "ipython3",
   "version": "3.7.7"
  }
 },
 "nbformat": 4,
 "nbformat_minor": 4
}
